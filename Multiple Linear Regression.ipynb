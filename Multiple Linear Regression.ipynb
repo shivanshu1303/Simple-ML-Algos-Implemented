{
  "nbformat": 4,
  "nbformat_minor": 0,
  "metadata": {
    "colab": {
      "provenance": [],
      "authorship_tag": "ABX9TyNATu/vWZDl44I7qn44wA5d"
    },
    "kernelspec": {
      "name": "python3",
      "display_name": "Python 3"
    },
    "language_info": {
      "name": "python"
    }
  },
  "cells": [
    {
      "cell_type": "markdown",
      "source": [
        "# Here, we will implement multiple linear regression, which is just linear regression but with multiple features"
      ],
      "metadata": {
        "id": "Aq2JrVjDyEaq"
      }
    },
    {
      "cell_type": "markdown",
      "source": [
        "## First, we begin with the imports required to make all this work"
      ],
      "metadata": {
        "id": "XbxhI5aczOqI"
      }
    },
    {
      "cell_type": "code",
      "source": [
        "import numpy as np"
      ],
      "metadata": {
        "id": "6HreIWNczY-z"
      },
      "execution_count": 1,
      "outputs": []
    },
    {
      "cell_type": "markdown",
      "source": [
        "## For simplicity, I will use the curve\n",
        "# $y=2x^2+5x$\n",
        "## so that `w` will be a vector and not a merely scalar"
      ],
      "metadata": {
        "id": "RdBU8qj7yVNo"
      }
    },
    {
      "cell_type": "markdown",
      "source": [
        "## First, we begin with a simple definition of our model:\n",
        "## $y=w*x+b$"
      ],
      "metadata": {
        "id": "nbboT5P1zELf"
      }
    },
    {
      "cell_type": "code",
      "source": [
        "def model(X,w,b):\n",
        "  return b+np.dot(w,X.T)"
      ],
      "metadata": {
        "id": "HU_XyxaAzJue"
      },
      "execution_count": 2,
      "outputs": []
    },
    {
      "cell_type": "markdown",
      "source": [
        "## Then, we define our cost function"
      ],
      "metadata": {
        "id": "3Q_dVqNc1OdQ"
      }
    },
    {
      "cell_type": "code",
      "source": [
        "def cost_function(X,y,w,b):\n",
        "  m=X.shape[0]\n",
        "  y_cap=model(X,w,b)\n",
        "  cost=0\n",
        "  cost+=(np.sum((y_cap-y)**2))/(2*m)\n",
        "  return cost"
      ],
      "metadata": {
        "id": "8bQyApK41Sxv"
      },
      "execution_count": 3,
      "outputs": []
    },
    {
      "cell_type": "markdown",
      "source": [
        "## Now, we define the gradient descent function"
      ],
      "metadata": {
        "id": "AwxdHLOP2KOA"
      }
    },
    {
      "cell_type": "code",
      "source": [
        "def gradient_descent(X,y,w,b,learning_rate):\n",
        "  m=X.shape[0]\n",
        "  y_cap=model(X,w,b)\n",
        "  w_gradient = (learning_rate)*np.dot((y_cap-y),X)/m\n",
        "  b_gradient = (learning_rate)*np.sum((y_cap-y))/m\n",
        "  w-=w_gradient\n",
        "  b-=b_gradient\n",
        "\n",
        "  return w,b"
      ],
      "metadata": {
        "id": "iw_7f6jC2NLP"
      },
      "execution_count": 4,
      "outputs": []
    },
    {
      "cell_type": "markdown",
      "source": [
        "## Next, we move onto the actual train function"
      ],
      "metadata": {
        "id": "LHedVwn53XcM"
      }
    },
    {
      "cell_type": "code",
      "source": [
        "def train(X,y,w,b,learning_rate,num_iterations):\n",
        "  costs=[]\n",
        "\n",
        "  for i in range(num_iterations):\n",
        "    w,b=gradient_descent(X,y,w,b,learning_rate)\n",
        "    cost=cost_function(X,y,w,b)\n",
        "    costs.append(cost)\n",
        "\n",
        "    if(i%100==0):\n",
        "      print(f\"The cost at iteration number {i} is {cost} and 'w' is {w} and 'b' is {b}\")\n",
        "\n",
        "  return w,b,costs"
      ],
      "metadata": {
        "id": "l_w4ZTAF3a_t"
      },
      "execution_count": 14,
      "outputs": []
    },
    {
      "cell_type": "markdown",
      "source": [
        "## Now, we're done with the functions. Lets move on to our training data"
      ],
      "metadata": {
        "id": "if38RZBgqGQG"
      }
    },
    {
      "cell_type": "code",
      "source": [
        "X=np.array([[1,1],[4,2],[1,-1],[4,-2],[9,3],[16,4],[16,-4],[9,-3]])\n",
        "y=np.array([7,18,-3,-2,33,52,12,3])\n",
        "w=np.random.rand(1,2)\n",
        "b=0\n",
        "alpha=0.01\n",
        "iterations=10000"
      ],
      "metadata": {
        "id": "GJbw-gErqQnt"
      },
      "execution_count": 9,
      "outputs": []
    },
    {
      "cell_type": "code",
      "source": [
        "w,b,costs=train(X,y,w,b,alpha,iterations)"
      ],
      "metadata": {
        "colab": {
          "base_uri": "https://localhost:8080/"
        },
        "id": "iy_UYvGWsWBd",
        "outputId": "11e25796-43a9-4329-be10-a87482918dfa"
      },
      "execution_count": 15,
      "outputs": [
        {
          "output_type": "stream",
          "name": "stdout",
          "text": [
            "The cost at iteration number 0 is 6.202418867300205e-29 and 'w' is [[2. 5.]] and 'b' is -8.892886427247472e-16\n",
            "The cost at iteration number 100 is 6.202418867300205e-29 and 'w' is [[2. 5.]] and 'b' is -8.892886427247472e-16\n",
            "The cost at iteration number 200 is 6.202418867300205e-29 and 'w' is [[2. 5.]] and 'b' is -8.892886427247472e-16\n",
            "The cost at iteration number 300 is 6.202418867300205e-29 and 'w' is [[2. 5.]] and 'b' is -8.892886427247472e-16\n",
            "The cost at iteration number 400 is 6.202418867300205e-29 and 'w' is [[2. 5.]] and 'b' is -8.892886427247472e-16\n",
            "The cost at iteration number 500 is 6.202418867300205e-29 and 'w' is [[2. 5.]] and 'b' is -8.892886427247472e-16\n",
            "The cost at iteration number 600 is 6.202418867300205e-29 and 'w' is [[2. 5.]] and 'b' is -8.892886427247472e-16\n",
            "The cost at iteration number 700 is 6.202418867300205e-29 and 'w' is [[2. 5.]] and 'b' is -8.892886427247472e-16\n",
            "The cost at iteration number 800 is 6.202418867300205e-29 and 'w' is [[2. 5.]] and 'b' is -8.892886427247472e-16\n",
            "The cost at iteration number 900 is 6.202418867300205e-29 and 'w' is [[2. 5.]] and 'b' is -8.892886427247472e-16\n",
            "The cost at iteration number 1000 is 6.202418867300205e-29 and 'w' is [[2. 5.]] and 'b' is -8.892886427247472e-16\n",
            "The cost at iteration number 1100 is 6.202418867300205e-29 and 'w' is [[2. 5.]] and 'b' is -8.892886427247472e-16\n",
            "The cost at iteration number 1200 is 6.202418867300205e-29 and 'w' is [[2. 5.]] and 'b' is -8.892886427247472e-16\n",
            "The cost at iteration number 1300 is 6.202418867300205e-29 and 'w' is [[2. 5.]] and 'b' is -8.892886427247472e-16\n",
            "The cost at iteration number 1400 is 6.202418867300205e-29 and 'w' is [[2. 5.]] and 'b' is -8.892886427247472e-16\n",
            "The cost at iteration number 1500 is 6.202418867300205e-29 and 'w' is [[2. 5.]] and 'b' is -8.892886427247472e-16\n",
            "The cost at iteration number 1600 is 6.202418867300205e-29 and 'w' is [[2. 5.]] and 'b' is -8.892886427247472e-16\n",
            "The cost at iteration number 1700 is 6.202418867300205e-29 and 'w' is [[2. 5.]] and 'b' is -8.892886427247472e-16\n",
            "The cost at iteration number 1800 is 6.202418867300205e-29 and 'w' is [[2. 5.]] and 'b' is -8.892886427247472e-16\n",
            "The cost at iteration number 1900 is 6.202418867300205e-29 and 'w' is [[2. 5.]] and 'b' is -8.892886427247472e-16\n",
            "The cost at iteration number 2000 is 6.202418867300205e-29 and 'w' is [[2. 5.]] and 'b' is -8.892886427247472e-16\n",
            "The cost at iteration number 2100 is 6.202418867300205e-29 and 'w' is [[2. 5.]] and 'b' is -8.892886427247472e-16\n",
            "The cost at iteration number 2200 is 6.202418867300205e-29 and 'w' is [[2. 5.]] and 'b' is -8.892886427247472e-16\n",
            "The cost at iteration number 2300 is 6.202418867300205e-29 and 'w' is [[2. 5.]] and 'b' is -8.892886427247472e-16\n",
            "The cost at iteration number 2400 is 6.202418867300205e-29 and 'w' is [[2. 5.]] and 'b' is -8.892886427247472e-16\n",
            "The cost at iteration number 2500 is 6.202418867300205e-29 and 'w' is [[2. 5.]] and 'b' is -8.892886427247472e-16\n",
            "The cost at iteration number 2600 is 6.202418867300205e-29 and 'w' is [[2. 5.]] and 'b' is -8.892886427247472e-16\n",
            "The cost at iteration number 2700 is 6.202418867300205e-29 and 'w' is [[2. 5.]] and 'b' is -8.892886427247472e-16\n",
            "The cost at iteration number 2800 is 6.202418867300205e-29 and 'w' is [[2. 5.]] and 'b' is -8.892886427247472e-16\n",
            "The cost at iteration number 2900 is 6.202418867300205e-29 and 'w' is [[2. 5.]] and 'b' is -8.892886427247472e-16\n",
            "The cost at iteration number 3000 is 6.202418867300205e-29 and 'w' is [[2. 5.]] and 'b' is -8.892886427247472e-16\n",
            "The cost at iteration number 3100 is 6.202418867300205e-29 and 'w' is [[2. 5.]] and 'b' is -8.892886427247472e-16\n",
            "The cost at iteration number 3200 is 6.202418867300205e-29 and 'w' is [[2. 5.]] and 'b' is -8.892886427247472e-16\n",
            "The cost at iteration number 3300 is 6.202418867300205e-29 and 'w' is [[2. 5.]] and 'b' is -8.892886427247472e-16\n",
            "The cost at iteration number 3400 is 6.202418867300205e-29 and 'w' is [[2. 5.]] and 'b' is -8.892886427247472e-16\n",
            "The cost at iteration number 3500 is 6.202418867300205e-29 and 'w' is [[2. 5.]] and 'b' is -8.892886427247472e-16\n",
            "The cost at iteration number 3600 is 6.202418867300205e-29 and 'w' is [[2. 5.]] and 'b' is -8.892886427247472e-16\n",
            "The cost at iteration number 3700 is 6.202418867300205e-29 and 'w' is [[2. 5.]] and 'b' is -8.892886427247472e-16\n",
            "The cost at iteration number 3800 is 6.202418867300205e-29 and 'w' is [[2. 5.]] and 'b' is -8.892886427247472e-16\n",
            "The cost at iteration number 3900 is 6.202418867300205e-29 and 'w' is [[2. 5.]] and 'b' is -8.892886427247472e-16\n",
            "The cost at iteration number 4000 is 6.202418867300205e-29 and 'w' is [[2. 5.]] and 'b' is -8.892886427247472e-16\n",
            "The cost at iteration number 4100 is 6.202418867300205e-29 and 'w' is [[2. 5.]] and 'b' is -8.892886427247472e-16\n",
            "The cost at iteration number 4200 is 6.202418867300205e-29 and 'w' is [[2. 5.]] and 'b' is -8.892886427247472e-16\n",
            "The cost at iteration number 4300 is 6.202418867300205e-29 and 'w' is [[2. 5.]] and 'b' is -8.892886427247472e-16\n",
            "The cost at iteration number 4400 is 6.202418867300205e-29 and 'w' is [[2. 5.]] and 'b' is -8.892886427247472e-16\n",
            "The cost at iteration number 4500 is 6.202418867300205e-29 and 'w' is [[2. 5.]] and 'b' is -8.892886427247472e-16\n",
            "The cost at iteration number 4600 is 6.202418867300205e-29 and 'w' is [[2. 5.]] and 'b' is -8.892886427247472e-16\n",
            "The cost at iteration number 4700 is 6.202418867300205e-29 and 'w' is [[2. 5.]] and 'b' is -8.892886427247472e-16\n",
            "The cost at iteration number 4800 is 6.202418867300205e-29 and 'w' is [[2. 5.]] and 'b' is -8.892886427247472e-16\n",
            "The cost at iteration number 4900 is 6.202418867300205e-29 and 'w' is [[2. 5.]] and 'b' is -8.892886427247472e-16\n",
            "The cost at iteration number 5000 is 6.202418867300205e-29 and 'w' is [[2. 5.]] and 'b' is -8.892886427247472e-16\n",
            "The cost at iteration number 5100 is 6.202418867300205e-29 and 'w' is [[2. 5.]] and 'b' is -8.892886427247472e-16\n",
            "The cost at iteration number 5200 is 6.202418867300205e-29 and 'w' is [[2. 5.]] and 'b' is -8.892886427247472e-16\n",
            "The cost at iteration number 5300 is 6.202418867300205e-29 and 'w' is [[2. 5.]] and 'b' is -8.892886427247472e-16\n",
            "The cost at iteration number 5400 is 6.202418867300205e-29 and 'w' is [[2. 5.]] and 'b' is -8.892886427247472e-16\n",
            "The cost at iteration number 5500 is 6.202418867300205e-29 and 'w' is [[2. 5.]] and 'b' is -8.892886427247472e-16\n",
            "The cost at iteration number 5600 is 6.202418867300205e-29 and 'w' is [[2. 5.]] and 'b' is -8.892886427247472e-16\n",
            "The cost at iteration number 5700 is 6.202418867300205e-29 and 'w' is [[2. 5.]] and 'b' is -8.892886427247472e-16\n",
            "The cost at iteration number 5800 is 6.202418867300205e-29 and 'w' is [[2. 5.]] and 'b' is -8.892886427247472e-16\n",
            "The cost at iteration number 5900 is 6.202418867300205e-29 and 'w' is [[2. 5.]] and 'b' is -8.892886427247472e-16\n",
            "The cost at iteration number 6000 is 6.202418867300205e-29 and 'w' is [[2. 5.]] and 'b' is -8.892886427247472e-16\n",
            "The cost at iteration number 6100 is 6.202418867300205e-29 and 'w' is [[2. 5.]] and 'b' is -8.892886427247472e-16\n",
            "The cost at iteration number 6200 is 6.202418867300205e-29 and 'w' is [[2. 5.]] and 'b' is -8.892886427247472e-16\n",
            "The cost at iteration number 6300 is 6.202418867300205e-29 and 'w' is [[2. 5.]] and 'b' is -8.892886427247472e-16\n",
            "The cost at iteration number 6400 is 6.202418867300205e-29 and 'w' is [[2. 5.]] and 'b' is -8.892886427247472e-16\n",
            "The cost at iteration number 6500 is 6.202418867300205e-29 and 'w' is [[2. 5.]] and 'b' is -8.892886427247472e-16\n",
            "The cost at iteration number 6600 is 6.202418867300205e-29 and 'w' is [[2. 5.]] and 'b' is -8.892886427247472e-16\n",
            "The cost at iteration number 6700 is 6.202418867300205e-29 and 'w' is [[2. 5.]] and 'b' is -8.892886427247472e-16\n",
            "The cost at iteration number 6800 is 6.202418867300205e-29 and 'w' is [[2. 5.]] and 'b' is -8.892886427247472e-16\n",
            "The cost at iteration number 6900 is 6.202418867300205e-29 and 'w' is [[2. 5.]] and 'b' is -8.892886427247472e-16\n",
            "The cost at iteration number 7000 is 6.202418867300205e-29 and 'w' is [[2. 5.]] and 'b' is -8.892886427247472e-16\n",
            "The cost at iteration number 7100 is 6.202418867300205e-29 and 'w' is [[2. 5.]] and 'b' is -8.892886427247472e-16\n",
            "The cost at iteration number 7200 is 6.202418867300205e-29 and 'w' is [[2. 5.]] and 'b' is -8.892886427247472e-16\n",
            "The cost at iteration number 7300 is 6.202418867300205e-29 and 'w' is [[2. 5.]] and 'b' is -8.892886427247472e-16\n",
            "The cost at iteration number 7400 is 6.202418867300205e-29 and 'w' is [[2. 5.]] and 'b' is -8.892886427247472e-16\n",
            "The cost at iteration number 7500 is 6.202418867300205e-29 and 'w' is [[2. 5.]] and 'b' is -8.892886427247472e-16\n",
            "The cost at iteration number 7600 is 6.202418867300205e-29 and 'w' is [[2. 5.]] and 'b' is -8.892886427247472e-16\n",
            "The cost at iteration number 7700 is 6.202418867300205e-29 and 'w' is [[2. 5.]] and 'b' is -8.892886427247472e-16\n",
            "The cost at iteration number 7800 is 6.202418867300205e-29 and 'w' is [[2. 5.]] and 'b' is -8.892886427247472e-16\n",
            "The cost at iteration number 7900 is 6.202418867300205e-29 and 'w' is [[2. 5.]] and 'b' is -8.892886427247472e-16\n",
            "The cost at iteration number 8000 is 6.202418867300205e-29 and 'w' is [[2. 5.]] and 'b' is -8.892886427247472e-16\n",
            "The cost at iteration number 8100 is 6.202418867300205e-29 and 'w' is [[2. 5.]] and 'b' is -8.892886427247472e-16\n",
            "The cost at iteration number 8200 is 6.202418867300205e-29 and 'w' is [[2. 5.]] and 'b' is -8.892886427247472e-16\n",
            "The cost at iteration number 8300 is 6.202418867300205e-29 and 'w' is [[2. 5.]] and 'b' is -8.892886427247472e-16\n",
            "The cost at iteration number 8400 is 6.202418867300205e-29 and 'w' is [[2. 5.]] and 'b' is -8.892886427247472e-16\n",
            "The cost at iteration number 8500 is 6.202418867300205e-29 and 'w' is [[2. 5.]] and 'b' is -8.892886427247472e-16\n",
            "The cost at iteration number 8600 is 6.202418867300205e-29 and 'w' is [[2. 5.]] and 'b' is -8.892886427247472e-16\n",
            "The cost at iteration number 8700 is 6.202418867300205e-29 and 'w' is [[2. 5.]] and 'b' is -8.892886427247472e-16\n",
            "The cost at iteration number 8800 is 6.202418867300205e-29 and 'w' is [[2. 5.]] and 'b' is -8.892886427247472e-16\n",
            "The cost at iteration number 8900 is 6.202418867300205e-29 and 'w' is [[2. 5.]] and 'b' is -8.892886427247472e-16\n",
            "The cost at iteration number 9000 is 6.202418867300205e-29 and 'w' is [[2. 5.]] and 'b' is -8.892886427247472e-16\n",
            "The cost at iteration number 9100 is 6.202418867300205e-29 and 'w' is [[2. 5.]] and 'b' is -8.892886427247472e-16\n",
            "The cost at iteration number 9200 is 6.202418867300205e-29 and 'w' is [[2. 5.]] and 'b' is -8.892886427247472e-16\n",
            "The cost at iteration number 9300 is 6.202418867300205e-29 and 'w' is [[2. 5.]] and 'b' is -8.892886427247472e-16\n",
            "The cost at iteration number 9400 is 6.202418867300205e-29 and 'w' is [[2. 5.]] and 'b' is -8.892886427247472e-16\n",
            "The cost at iteration number 9500 is 6.202418867300205e-29 and 'w' is [[2. 5.]] and 'b' is -8.892886427247472e-16\n",
            "The cost at iteration number 9600 is 6.202418867300205e-29 and 'w' is [[2. 5.]] and 'b' is -8.892886427247472e-16\n",
            "The cost at iteration number 9700 is 6.202418867300205e-29 and 'w' is [[2. 5.]] and 'b' is -8.892886427247472e-16\n",
            "The cost at iteration number 9800 is 6.202418867300205e-29 and 'w' is [[2. 5.]] and 'b' is -8.892886427247472e-16\n",
            "The cost at iteration number 9900 is 6.202418867300205e-29 and 'w' is [[2. 5.]] and 'b' is -8.892886427247472e-16\n"
          ]
        }
      ]
    },
    {
      "cell_type": "markdown",
      "source": [
        "## Above we see that the code works quite well i.e.our model learns the function quite well since the cost quite visibly tends to zero and the `w` vector takes on the coefficients of our function i.e. `[2,5]` and `b` approaches `0`"
      ],
      "metadata": {
        "id": "ZYvYyHcxwuew"
      }
    },
    {
      "cell_type": "markdown",
      "source": [
        "## But something that isnt visible is that I had to change the training data since the model wasn't learning on the initial data at all.\n",
        "\n",
        "## The original arrays were:\n",
        "##`X = [[1,1],[4,2],[1,-1],[25,5],[2401,49],[49,7],[64,8],[2500,50]]`\n",
        "## `y = [7,18,-3,75,5047,133,168,5250]`\n",
        "\n",
        "## If you replace `X` and `y` with these arrays, you will see the error message that the `cost`,`w` and `b` are all `nan` i.e.`(not a number)`\n",
        "\n",
        "## This means that we need to make our model robust enough to handle data in a large range i.e. data that lies in multiple orders of magnitude"
      ],
      "metadata": {
        "id": "8VexxoD1xKuJ"
      }
    }
  ]
}