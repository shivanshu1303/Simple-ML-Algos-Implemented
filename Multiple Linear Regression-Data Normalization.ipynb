{
  "nbformat": 4,
  "nbformat_minor": 0,
  "metadata": {
    "colab": {
      "provenance": [],
      "authorship_tag": "ABX9TyMq9OO2dIudt0J4uWbmocrd",
      "include_colab_link": true
    },
    "kernelspec": {
      "name": "python3",
      "display_name": "Python 3"
    },
    "language_info": {
      "name": "python"
    }
  },
  "cells": [
    {
      "cell_type": "markdown",
      "metadata": {
        "id": "view-in-github",
        "colab_type": "text"
      },
      "source": [
        "<a href=\"https://colab.research.google.com/github/shivanshu1303/Simple-ML-Algos-Implemented/blob/main/Multiple%20Linear%20Regression-Data%20Normalization.ipynb\" target=\"_parent\"><img src=\"https://colab.research.google.com/assets/colab-badge.svg\" alt=\"Open In Colab\"/></a>"
      ]
    },
    {
      "cell_type": "markdown",
      "source": [
        "# This is in continuation to the previous notebook titled 'Multiple Linear Regression'\n",
        "\n",
        "## Data curve : $y=2x^2+5x$"
      ],
      "metadata": {
        "id": "JFFzrTcazaZK"
      }
    },
    {
      "cell_type": "markdown",
      "source": [
        "## So, we need methods to 'optimize' the data that we train our model on"
      ],
      "metadata": {
        "id": "GvqMVKz1zhSK"
      }
    },
    {
      "cell_type": "markdown",
      "source": [
        "## First, we again code our model (for practice)"
      ],
      "metadata": {
        "id": "2bUmZiVSz3mq"
      }
    },
    {
      "cell_type": "code",
      "source": [
        "import numpy as np"
      ],
      "metadata": {
        "id": "OpoLwlTy3QZx"
      },
      "execution_count": 2,
      "outputs": []
    },
    {
      "cell_type": "code",
      "source": [
        "def model(X,w,b):\n",
        "  return b+np.dot(w,X.T)"
      ],
      "metadata": {
        "id": "FUSU16Imz-CS"
      },
      "execution_count": 3,
      "outputs": []
    },
    {
      "cell_type": "code",
      "source": [
        "def cost_function(X,y,w,b):\n",
        "  y_cap=model(X,w,b)\n",
        "  m=X.shape[0]\n",
        "  cost=0\n",
        "  cost+=(np.sum((y_cap-y)**2))/(2*m)\n",
        "\n",
        "  return cost"
      ],
      "metadata": {
        "id": "B28AaJGm0Lqa"
      },
      "execution_count": 4,
      "outputs": []
    },
    {
      "cell_type": "code",
      "source": [
        "def gradient_descent(X,y,w,b,learning_rate):\n",
        "\n",
        "  m=X.shape[0]\n",
        "\n",
        "  for i in range(m):\n",
        "\n",
        "    y_cap=model(X,w,b)\n",
        "\n",
        "    w_gradient = (learning_rate)*(np.dot((y_cap-y),X))/(m)\n",
        "    b_gradient = (learning_rate)*(np.sum( y_cap-y)   )/(m)\n",
        "\n",
        "    w-=w_gradient\n",
        "    b-=b_gradient\n",
        "\n",
        "  return w,b"
      ],
      "metadata": {
        "id": "I_O20fNA0gPc"
      },
      "execution_count": 5,
      "outputs": []
    },
    {
      "cell_type": "code",
      "source": [
        "def train(X,y,w,b,learning_rate,num_iterations):\n",
        "  costs=[]\n",
        "\n",
        "  # Could have used '_' and not 'i' or something similar if we only required a placeholder\n",
        "  for i in range(num_iterations):\n",
        "    cost=cost_function(X,y,w,b)\n",
        "    costs.append(cost)\n",
        "\n",
        "    w,b = gradient_descent(X,y,w,b,learning_rate)\n",
        "\n",
        "    if(i%100==0):\n",
        "      print(f\"At iteration number {i}, the cost is {cost}, 'w' is {w} and 'b' is {b}\")\n",
        "\n",
        "  return w,b,costs"
      ],
      "metadata": {
        "id": "XBcS2h741rF8"
      },
      "execution_count": 6,
      "outputs": []
    },
    {
      "cell_type": "code",
      "source": [
        "X=np.array([[1,1],[4,2],[1,-1],[4,-2],[9,3],[16,4],[16,-4],[9,-3]])\n",
        "y=np.array([7,18,-3,-2,33,52,12,3])\n",
        "w=np.random.rand(1,2)\n",
        "b=0\n",
        "alpha=0.01\n",
        "num_iterations=10000"
      ],
      "metadata": {
        "id": "43fdHxeK2U2-"
      },
      "execution_count": 11,
      "outputs": []
    },
    {
      "cell_type": "code",
      "source": [
        "w,b,costs=train(X,y,w,b,learning_rate=alpha,num_iterations=num_iterations)"
      ],
      "metadata": {
        "id": "a3AI06XO2sZl",
        "colab": {
          "base_uri": "https://localhost:8080/"
        },
        "outputId": "820f87b5-9ab2-4a50-83c2-211ca724f59f"
      },
      "execution_count": 12,
      "outputs": [
        {
          "output_type": "stream",
          "name": "stdout",
          "text": [
            "At iteration number 0, the cost is 161.7903394332473, 'w' is [[1.99010536 2.63597515]] and 'b' is 0.11627915216672273\n",
            "At iteration number 100, the cost is 7.909914446393789e-06, 'w' is [[1.99945537 5.        ]] and 'b' is 0.006400418175535165\n",
            "At iteration number 200, the cost is 2.396540405155377e-08, 'w' is [[1.99997002 5.        ]] and 'b' is 0.0003523017775875479\n",
            "At iteration number 300, the cost is 7.261021535006588e-11, 'w' is [[1.99999835 5.        ]] and 'b' is 1.9391942696069797e-05\n",
            "At iteration number 400, the cost is 2.1999392777492193e-13, 'w' is [[1.99999991 5.        ]] and 'b' is 1.0674014877215534e-06\n",
            "At iteration number 500, the cost is 6.665360874254542e-16, 'w' is [[2. 5.]] and 'b' is 5.875357388607187e-08\n",
            "At iteration number 600, the cost is 2.019465874147894e-18, 'w' is [[2. 5.]] and 'b' is 3.2340057015685805e-09\n",
            "At iteration number 700, the cost is 6.11858557832396e-21, 'w' is [[2. 5.]] and 'b' is 1.780111705259191e-10\n",
            "At iteration number 800, the cost is 1.8538511774375342e-23, 'w' is [[2. 5.]] and 'b' is 9.798233612981932e-12\n",
            "At iteration number 900, the cost is 5.596134888211939e-26, 'w' is [[2. 5.]] and 'b' is 5.392558618121453e-13\n",
            "At iteration number 1000, the cost is 2.442541392669668e-28, 'w' is [[2. 5.]] and 'b' is 2.99649190603836e-14\n",
            "At iteration number 1100, the cost is 8.455910976628822e-29, 'w' is [[2. 5.]] and 'b' is 2.43693916480288e-15\n",
            "At iteration number 1200, the cost is 8.159779988379841e-29, 'w' is [[2. 5.]] and 'b' is 1.7780217996877887e-15\n",
            "At iteration number 1300, the cost is 8.159779988379841e-29, 'w' is [[2. 5.]] and 'b' is 1.77802179968771e-15\n",
            "At iteration number 1400, the cost is 8.159779988379841e-29, 'w' is [[2. 5.]] and 'b' is 1.778021799687631e-15\n",
            "At iteration number 1500, the cost is 8.159779988379841e-29, 'w' is [[2. 5.]] and 'b' is 1.778021799687552e-15\n",
            "At iteration number 1600, the cost is 8.159779988379841e-29, 'w' is [[2. 5.]] and 'b' is 1.778021799687473e-15\n",
            "At iteration number 1700, the cost is 8.159779988379841e-29, 'w' is [[2. 5.]] and 'b' is 1.7780217996873943e-15\n",
            "At iteration number 1800, the cost is 8.159779988379841e-29, 'w' is [[2. 5.]] and 'b' is 1.7780217996873154e-15\n",
            "At iteration number 1900, the cost is 8.159779988379841e-29, 'w' is [[2. 5.]] and 'b' is 1.7780217996872365e-15\n",
            "At iteration number 2000, the cost is 8.159779988379841e-29, 'w' is [[2. 5.]] and 'b' is 1.7780217996871576e-15\n",
            "At iteration number 2100, the cost is 8.159779988379841e-29, 'w' is [[2. 5.]] and 'b' is 1.7780217996870787e-15\n",
            "At iteration number 2200, the cost is 8.159779988379841e-29, 'w' is [[2. 5.]] and 'b' is 1.778021799687e-15\n",
            "At iteration number 2300, the cost is 8.159779988379841e-29, 'w' is [[2. 5.]] and 'b' is 1.778021799686921e-15\n",
            "At iteration number 2400, the cost is 8.159779988379841e-29, 'w' is [[2. 5.]] and 'b' is 1.778021799686842e-15\n",
            "At iteration number 2500, the cost is 8.159779988379841e-29, 'w' is [[2. 5.]] and 'b' is 1.778021799686763e-15\n",
            "At iteration number 2600, the cost is 8.159779988379841e-29, 'w' is [[2. 5.]] and 'b' is 1.7780217996866843e-15\n",
            "At iteration number 2700, the cost is 8.159779988379841e-29, 'w' is [[2. 5.]] and 'b' is 1.7780217996866054e-15\n",
            "At iteration number 2800, the cost is 8.159779988379841e-29, 'w' is [[2. 5.]] and 'b' is 1.7780217996865265e-15\n",
            "At iteration number 2900, the cost is 8.159779988379841e-29, 'w' is [[2. 5.]] and 'b' is 1.7780217996864476e-15\n",
            "At iteration number 3000, the cost is 8.159779988379841e-29, 'w' is [[2. 5.]] and 'b' is 1.7780217996863687e-15\n",
            "At iteration number 3100, the cost is 8.159779988379841e-29, 'w' is [[2. 5.]] and 'b' is 1.77802179968629e-15\n",
            "At iteration number 3200, the cost is 8.159779988379841e-29, 'w' is [[2. 5.]] and 'b' is 1.778021799686211e-15\n",
            "At iteration number 3300, the cost is 8.159779988379841e-29, 'w' is [[2. 5.]] and 'b' is 1.778021799686132e-15\n",
            "At iteration number 3400, the cost is 8.159779988379841e-29, 'w' is [[2. 5.]] and 'b' is 1.7780217996860532e-15\n",
            "At iteration number 3500, the cost is 8.159779988379841e-29, 'w' is [[2. 5.]] and 'b' is 1.7780217996859743e-15\n",
            "At iteration number 3600, the cost is 8.159779988379841e-29, 'w' is [[2. 5.]] and 'b' is 1.7780217996858954e-15\n",
            "At iteration number 3700, the cost is 8.159779988379841e-29, 'w' is [[2. 5.]] and 'b' is 1.7780217996858165e-15\n",
            "At iteration number 3800, the cost is 8.159779988379841e-29, 'w' is [[2. 5.]] and 'b' is 1.7780217996857377e-15\n",
            "At iteration number 3900, the cost is 8.159779988379841e-29, 'w' is [[2. 5.]] and 'b' is 1.7780217996856588e-15\n",
            "At iteration number 4000, the cost is 8.159779988379841e-29, 'w' is [[2. 5.]] and 'b' is 1.77802179968558e-15\n",
            "At iteration number 4100, the cost is 8.159779988379841e-29, 'w' is [[2. 5.]] and 'b' is 1.778021799685501e-15\n",
            "At iteration number 4200, the cost is 8.159779988379841e-29, 'w' is [[2. 5.]] and 'b' is 1.778021799685422e-15\n",
            "At iteration number 4300, the cost is 8.159779988379841e-29, 'w' is [[2. 5.]] and 'b' is 1.7780217996853432e-15\n",
            "At iteration number 4400, the cost is 8.159779988379841e-29, 'w' is [[2. 5.]] and 'b' is 1.7780217996852643e-15\n",
            "At iteration number 4500, the cost is 8.159779988379841e-29, 'w' is [[2. 5.]] and 'b' is 1.7780217996851855e-15\n",
            "At iteration number 4600, the cost is 8.159779988379841e-29, 'w' is [[2. 5.]] and 'b' is 1.7780217996851066e-15\n",
            "At iteration number 4700, the cost is 8.159779988379841e-29, 'w' is [[2. 5.]] and 'b' is 1.7780217996850277e-15\n",
            "At iteration number 4800, the cost is 8.159779988379841e-29, 'w' is [[2. 5.]] and 'b' is 1.7780217996849488e-15\n",
            "At iteration number 4900, the cost is 8.159779988379841e-29, 'w' is [[2. 5.]] and 'b' is 1.77802179968487e-15\n",
            "At iteration number 5000, the cost is 8.159779988379841e-29, 'w' is [[2. 5.]] and 'b' is 1.778021799684791e-15\n",
            "At iteration number 5100, the cost is 8.159779988379841e-29, 'w' is [[2. 5.]] and 'b' is 1.778021799684712e-15\n",
            "At iteration number 5200, the cost is 8.159779988379841e-29, 'w' is [[2. 5.]] and 'b' is 1.7780217996846332e-15\n",
            "At iteration number 5300, the cost is 8.159779988379841e-29, 'w' is [[2. 5.]] and 'b' is 1.7780217996845544e-15\n",
            "At iteration number 5400, the cost is 8.159779988379841e-29, 'w' is [[2. 5.]] and 'b' is 1.7780217996844755e-15\n",
            "At iteration number 5500, the cost is 8.159779988379841e-29, 'w' is [[2. 5.]] and 'b' is 1.7780217996843966e-15\n",
            "At iteration number 5600, the cost is 8.159779988379841e-29, 'w' is [[2. 5.]] and 'b' is 1.7780217996843177e-15\n",
            "At iteration number 5700, the cost is 8.159779988379841e-29, 'w' is [[2. 5.]] and 'b' is 1.778021799684239e-15\n",
            "At iteration number 5800, the cost is 8.159779988379841e-29, 'w' is [[2. 5.]] and 'b' is 1.77802179968416e-15\n",
            "At iteration number 5900, the cost is 8.159779988379841e-29, 'w' is [[2. 5.]] and 'b' is 1.778021799684081e-15\n",
            "At iteration number 6000, the cost is 8.159779988379841e-29, 'w' is [[2. 5.]] and 'b' is 1.778021799684002e-15\n",
            "At iteration number 6100, the cost is 8.159779988379841e-29, 'w' is [[2. 5.]] and 'b' is 1.7780217996839233e-15\n",
            "At iteration number 6200, the cost is 8.159779988379841e-29, 'w' is [[2. 5.]] and 'b' is 1.7780217996838444e-15\n",
            "At iteration number 6300, the cost is 8.159779988379841e-29, 'w' is [[2. 5.]] and 'b' is 1.7780217996837655e-15\n",
            "At iteration number 6400, the cost is 8.159779988379841e-29, 'w' is [[2. 5.]] and 'b' is 1.7780217996836866e-15\n",
            "At iteration number 6500, the cost is 8.159779988379841e-29, 'w' is [[2. 5.]] and 'b' is 1.7780217996836077e-15\n",
            "At iteration number 6600, the cost is 8.159779988379841e-29, 'w' is [[2. 5.]] and 'b' is 1.778021799683529e-15\n",
            "At iteration number 6700, the cost is 8.159779988379841e-29, 'w' is [[2. 5.]] and 'b' is 1.77802179968345e-15\n",
            "At iteration number 6800, the cost is 8.159779988379841e-29, 'w' is [[2. 5.]] and 'b' is 1.778021799683371e-15\n",
            "At iteration number 6900, the cost is 8.159779988379841e-29, 'w' is [[2. 5.]] and 'b' is 1.778021799683292e-15\n",
            "At iteration number 7000, the cost is 8.159779988379841e-29, 'w' is [[2. 5.]] and 'b' is 1.7780217996832133e-15\n",
            "At iteration number 7100, the cost is 8.159779988379841e-29, 'w' is [[2. 5.]] and 'b' is 1.7780217996831344e-15\n",
            "At iteration number 7200, the cost is 8.159779988379841e-29, 'w' is [[2. 5.]] and 'b' is 1.7780217996830555e-15\n",
            "At iteration number 7300, the cost is 8.159779988379841e-29, 'w' is [[2. 5.]] and 'b' is 1.7780217996829766e-15\n",
            "At iteration number 7400, the cost is 8.159779988379841e-29, 'w' is [[2. 5.]] and 'b' is 1.7780217996828978e-15\n",
            "At iteration number 7500, the cost is 8.159779988379841e-29, 'w' is [[2. 5.]] and 'b' is 1.778021799682819e-15\n",
            "At iteration number 7600, the cost is 8.159779988379841e-29, 'w' is [[2. 5.]] and 'b' is 1.77802179968274e-15\n",
            "At iteration number 7700, the cost is 8.159779988379841e-29, 'w' is [[2. 5.]] and 'b' is 1.778021799682661e-15\n",
            "At iteration number 7800, the cost is 8.159779988379841e-29, 'w' is [[2. 5.]] and 'b' is 1.7780217996825822e-15\n",
            "At iteration number 7900, the cost is 8.159779988379841e-29, 'w' is [[2. 5.]] and 'b' is 1.7780217996825033e-15\n",
            "At iteration number 8000, the cost is 8.159779988379841e-29, 'w' is [[2. 5.]] and 'b' is 1.7780217996824244e-15\n",
            "At iteration number 8100, the cost is 8.159779988379841e-29, 'w' is [[2. 5.]] and 'b' is 1.7780217996823456e-15\n",
            "At iteration number 8200, the cost is 8.159779988379841e-29, 'w' is [[2. 5.]] and 'b' is 1.7780217996822667e-15\n",
            "At iteration number 8300, the cost is 8.159779988379841e-29, 'w' is [[2. 5.]] and 'b' is 1.7780217996821878e-15\n",
            "At iteration number 8400, the cost is 8.159779988379841e-29, 'w' is [[2. 5.]] and 'b' is 1.778021799682109e-15\n",
            "At iteration number 8500, the cost is 8.159779988379841e-29, 'w' is [[2. 5.]] and 'b' is 1.77802179968203e-15\n",
            "At iteration number 8600, the cost is 8.159779988379841e-29, 'w' is [[2. 5.]] and 'b' is 1.778021799681951e-15\n",
            "At iteration number 8700, the cost is 8.159779988379841e-29, 'w' is [[2. 5.]] and 'b' is 1.7780217996818722e-15\n",
            "At iteration number 8800, the cost is 8.159779988379841e-29, 'w' is [[2. 5.]] and 'b' is 1.7780217996817933e-15\n",
            "At iteration number 8900, the cost is 8.159779988379841e-29, 'w' is [[2. 5.]] and 'b' is 1.7780217996817145e-15\n",
            "At iteration number 9000, the cost is 8.159779988379841e-29, 'w' is [[2. 5.]] and 'b' is 1.7780217996816356e-15\n",
            "At iteration number 9100, the cost is 8.159779988379841e-29, 'w' is [[2. 5.]] and 'b' is 1.7780217996815567e-15\n",
            "At iteration number 9200, the cost is 8.159779988379841e-29, 'w' is [[2. 5.]] and 'b' is 1.778021799681478e-15\n",
            "At iteration number 9300, the cost is 8.159779988379841e-29, 'w' is [[2. 5.]] and 'b' is 1.778021799681399e-15\n",
            "At iteration number 9400, the cost is 8.159779988379841e-29, 'w' is [[2. 5.]] and 'b' is 1.77802179968132e-15\n",
            "At iteration number 9500, the cost is 8.159779988379841e-29, 'w' is [[2. 5.]] and 'b' is 1.778021799681241e-15\n",
            "At iteration number 9600, the cost is 8.159779988379841e-29, 'w' is [[2. 5.]] and 'b' is 1.7780217996811623e-15\n",
            "At iteration number 9700, the cost is 8.159779988379841e-29, 'w' is [[2. 5.]] and 'b' is 1.7780217996810834e-15\n",
            "At iteration number 9800, the cost is 8.159779988379841e-29, 'w' is [[2. 5.]] and 'b' is 1.7780217996810045e-15\n",
            "At iteration number 9900, the cost is 8.159779988379841e-29, 'w' is [[2. 5.]] and 'b' is 1.7780217996809256e-15\n"
          ]
        }
      ]
    },
    {
      "cell_type": "markdown",
      "source": [
        "## Now we try to train on our original data that was erroneous"
      ],
      "metadata": {
        "id": "ypnPk-454JIv"
      }
    },
    {
      "cell_type": "code",
      "source": [
        "X=np.array([[1,1],[4,2],[1,-1],[25,5],[2401,49],[49,7],[64,8],[2500,50]])\n",
        "y=np.array([7,18,-3,75,5047,133,168,5250])\n",
        "\n",
        "w=np.random.rand(1,2)\n",
        "b=0\n",
        "alpha=0.01\n",
        "num_iterations=10000"
      ],
      "metadata": {
        "id": "E1at1OWc4Rp9"
      },
      "execution_count": 13,
      "outputs": []
    },
    {
      "cell_type": "code",
      "source": [
        "w,b,costs=train(X,y,w,b,learning_rate=alpha,num_iterations=num_iterations)"
      ],
      "metadata": {
        "id": "6jf8SVKg4xgo",
        "colab": {
          "base_uri": "https://localhost:8080/"
        },
        "outputId": "90108d90-4cb7-4226-bf5b-b0d3f3964866"
      },
      "execution_count": 14,
      "outputs": [
        {
          "output_type": "stream",
          "name": "stdout",
          "text": [
            "At iteration number 0, the cost is 2014802.9855733172, 'w' is [[-4.26843025e+33 -8.65049050e+31]] and 'b' is -1.7913798708880136e+30\n",
            "At iteration number 100, the cost is nan, 'w' is [[nan nan]] and 'b' is nan\n",
            "At iteration number 200, the cost is nan, 'w' is [[nan nan]] and 'b' is nan\n",
            "At iteration number 300, the cost is nan, 'w' is [[nan nan]] and 'b' is nan\n",
            "At iteration number 400, the cost is nan, 'w' is [[nan nan]] and 'b' is nan\n",
            "At iteration number 500, the cost is nan, 'w' is [[nan nan]] and 'b' is nan\n",
            "At iteration number 600, the cost is nan, 'w' is [[nan nan]] and 'b' is nan\n",
            "At iteration number 700, the cost is nan, 'w' is [[nan nan]] and 'b' is nan\n"
          ]
        },
        {
          "output_type": "stream",
          "name": "stderr",
          "text": [
            "<ipython-input-4-cb05dc522385>:5: RuntimeWarning: overflow encountered in square\n",
            "  cost+=(np.sum((y_cap-y)**2))/(2*m)\n"
          ]
        },
        {
          "output_type": "stream",
          "name": "stdout",
          "text": [
            "At iteration number 800, the cost is nan, 'w' is [[nan nan]] and 'b' is nan\n",
            "At iteration number 900, the cost is nan, 'w' is [[nan nan]] and 'b' is nan\n",
            "At iteration number 1000, the cost is nan, 'w' is [[nan nan]] and 'b' is nan\n",
            "At iteration number 1100, the cost is nan, 'w' is [[nan nan]] and 'b' is nan\n",
            "At iteration number 1200, the cost is nan, 'w' is [[nan nan]] and 'b' is nan\n",
            "At iteration number 1300, the cost is nan, 'w' is [[nan nan]] and 'b' is nan\n",
            "At iteration number 1400, the cost is nan, 'w' is [[nan nan]] and 'b' is nan\n",
            "At iteration number 1500, the cost is nan, 'w' is [[nan nan]] and 'b' is nan\n",
            "At iteration number 1600, the cost is nan, 'w' is [[nan nan]] and 'b' is nan\n",
            "At iteration number 1700, the cost is nan, 'w' is [[nan nan]] and 'b' is nan\n",
            "At iteration number 1800, the cost is nan, 'w' is [[nan nan]] and 'b' is nan\n",
            "At iteration number 1900, the cost is nan, 'w' is [[nan nan]] and 'b' is nan\n",
            "At iteration number 2000, the cost is nan, 'w' is [[nan nan]] and 'b' is nan\n",
            "At iteration number 2100, the cost is nan, 'w' is [[nan nan]] and 'b' is nan\n",
            "At iteration number 2200, the cost is nan, 'w' is [[nan nan]] and 'b' is nan\n",
            "At iteration number 2300, the cost is nan, 'w' is [[nan nan]] and 'b' is nan\n",
            "At iteration number 2400, the cost is nan, 'w' is [[nan nan]] and 'b' is nan\n",
            "At iteration number 2500, the cost is nan, 'w' is [[nan nan]] and 'b' is nan\n",
            "At iteration number 2600, the cost is nan, 'w' is [[nan nan]] and 'b' is nan\n",
            "At iteration number 2700, the cost is nan, 'w' is [[nan nan]] and 'b' is nan\n",
            "At iteration number 2800, the cost is nan, 'w' is [[nan nan]] and 'b' is nan\n",
            "At iteration number 2900, the cost is nan, 'w' is [[nan nan]] and 'b' is nan\n",
            "At iteration number 3000, the cost is nan, 'w' is [[nan nan]] and 'b' is nan\n",
            "At iteration number 3100, the cost is nan, 'w' is [[nan nan]] and 'b' is nan\n",
            "At iteration number 3200, the cost is nan, 'w' is [[nan nan]] and 'b' is nan\n",
            "At iteration number 3300, the cost is nan, 'w' is [[nan nan]] and 'b' is nan\n",
            "At iteration number 3400, the cost is nan, 'w' is [[nan nan]] and 'b' is nan\n",
            "At iteration number 3500, the cost is nan, 'w' is [[nan nan]] and 'b' is nan\n",
            "At iteration number 3600, the cost is nan, 'w' is [[nan nan]] and 'b' is nan\n",
            "At iteration number 3700, the cost is nan, 'w' is [[nan nan]] and 'b' is nan\n",
            "At iteration number 3800, the cost is nan, 'w' is [[nan nan]] and 'b' is nan\n",
            "At iteration number 3900, the cost is nan, 'w' is [[nan nan]] and 'b' is nan\n",
            "At iteration number 4000, the cost is nan, 'w' is [[nan nan]] and 'b' is nan\n",
            "At iteration number 4100, the cost is nan, 'w' is [[nan nan]] and 'b' is nan\n",
            "At iteration number 4200, the cost is nan, 'w' is [[nan nan]] and 'b' is nan\n",
            "At iteration number 4300, the cost is nan, 'w' is [[nan nan]] and 'b' is nan\n",
            "At iteration number 4400, the cost is nan, 'w' is [[nan nan]] and 'b' is nan\n",
            "At iteration number 4500, the cost is nan, 'w' is [[nan nan]] and 'b' is nan\n",
            "At iteration number 4600, the cost is nan, 'w' is [[nan nan]] and 'b' is nan\n",
            "At iteration number 4700, the cost is nan, 'w' is [[nan nan]] and 'b' is nan\n",
            "At iteration number 4800, the cost is nan, 'w' is [[nan nan]] and 'b' is nan\n",
            "At iteration number 4900, the cost is nan, 'w' is [[nan nan]] and 'b' is nan\n",
            "At iteration number 5000, the cost is nan, 'w' is [[nan nan]] and 'b' is nan\n",
            "At iteration number 5100, the cost is nan, 'w' is [[nan nan]] and 'b' is nan\n",
            "At iteration number 5200, the cost is nan, 'w' is [[nan nan]] and 'b' is nan\n",
            "At iteration number 5300, the cost is nan, 'w' is [[nan nan]] and 'b' is nan\n",
            "At iteration number 5400, the cost is nan, 'w' is [[nan nan]] and 'b' is nan\n",
            "At iteration number 5500, the cost is nan, 'w' is [[nan nan]] and 'b' is nan\n",
            "At iteration number 5600, the cost is nan, 'w' is [[nan nan]] and 'b' is nan\n",
            "At iteration number 5700, the cost is nan, 'w' is [[nan nan]] and 'b' is nan\n",
            "At iteration number 5800, the cost is nan, 'w' is [[nan nan]] and 'b' is nan\n",
            "At iteration number 5900, the cost is nan, 'w' is [[nan nan]] and 'b' is nan\n",
            "At iteration number 6000, the cost is nan, 'w' is [[nan nan]] and 'b' is nan\n",
            "At iteration number 6100, the cost is nan, 'w' is [[nan nan]] and 'b' is nan\n",
            "At iteration number 6200, the cost is nan, 'w' is [[nan nan]] and 'b' is nan\n",
            "At iteration number 6300, the cost is nan, 'w' is [[nan nan]] and 'b' is nan\n",
            "At iteration number 6400, the cost is nan, 'w' is [[nan nan]] and 'b' is nan\n",
            "At iteration number 6500, the cost is nan, 'w' is [[nan nan]] and 'b' is nan\n",
            "At iteration number 6600, the cost is nan, 'w' is [[nan nan]] and 'b' is nan\n",
            "At iteration number 6700, the cost is nan, 'w' is [[nan nan]] and 'b' is nan\n",
            "At iteration number 6800, the cost is nan, 'w' is [[nan nan]] and 'b' is nan\n",
            "At iteration number 6900, the cost is nan, 'w' is [[nan nan]] and 'b' is nan\n",
            "At iteration number 7000, the cost is nan, 'w' is [[nan nan]] and 'b' is nan\n",
            "At iteration number 7100, the cost is nan, 'w' is [[nan nan]] and 'b' is nan\n",
            "At iteration number 7200, the cost is nan, 'w' is [[nan nan]] and 'b' is nan\n",
            "At iteration number 7300, the cost is nan, 'w' is [[nan nan]] and 'b' is nan\n",
            "At iteration number 7400, the cost is nan, 'w' is [[nan nan]] and 'b' is nan\n",
            "At iteration number 7500, the cost is nan, 'w' is [[nan nan]] and 'b' is nan\n",
            "At iteration number 7600, the cost is nan, 'w' is [[nan nan]] and 'b' is nan\n",
            "At iteration number 7700, the cost is nan, 'w' is [[nan nan]] and 'b' is nan\n",
            "At iteration number 7800, the cost is nan, 'w' is [[nan nan]] and 'b' is nan\n",
            "At iteration number 7900, the cost is nan, 'w' is [[nan nan]] and 'b' is nan\n",
            "At iteration number 8000, the cost is nan, 'w' is [[nan nan]] and 'b' is nan\n",
            "At iteration number 8100, the cost is nan, 'w' is [[nan nan]] and 'b' is nan\n",
            "At iteration number 8200, the cost is nan, 'w' is [[nan nan]] and 'b' is nan\n",
            "At iteration number 8300, the cost is nan, 'w' is [[nan nan]] and 'b' is nan\n",
            "At iteration number 8400, the cost is nan, 'w' is [[nan nan]] and 'b' is nan\n",
            "At iteration number 8500, the cost is nan, 'w' is [[nan nan]] and 'b' is nan\n",
            "At iteration number 8600, the cost is nan, 'w' is [[nan nan]] and 'b' is nan\n",
            "At iteration number 8700, the cost is nan, 'w' is [[nan nan]] and 'b' is nan\n",
            "At iteration number 8800, the cost is nan, 'w' is [[nan nan]] and 'b' is nan\n",
            "At iteration number 8900, the cost is nan, 'w' is [[nan nan]] and 'b' is nan\n",
            "At iteration number 9000, the cost is nan, 'w' is [[nan nan]] and 'b' is nan\n",
            "At iteration number 9100, the cost is nan, 'w' is [[nan nan]] and 'b' is nan\n",
            "At iteration number 9200, the cost is nan, 'w' is [[nan nan]] and 'b' is nan\n",
            "At iteration number 9300, the cost is nan, 'w' is [[nan nan]] and 'b' is nan\n",
            "At iteration number 9400, the cost is nan, 'w' is [[nan nan]] and 'b' is nan\n",
            "At iteration number 9500, the cost is nan, 'w' is [[nan nan]] and 'b' is nan\n",
            "At iteration number 9600, the cost is nan, 'w' is [[nan nan]] and 'b' is nan\n",
            "At iteration number 9700, the cost is nan, 'w' is [[nan nan]] and 'b' is nan\n",
            "At iteration number 9800, the cost is nan, 'w' is [[nan nan]] and 'b' is nan\n",
            "At iteration number 9900, the cost is nan, 'w' is [[nan nan]] and 'b' is nan\n"
          ]
        }
      ]
    },
    {
      "cell_type": "markdown",
      "source": [
        "### Above we clearly see the error:\n",
        "\n",
        "`<ipython-input-5-cb05dc522385>:5: RuntimeWarning: overflow encountered in square\n",
        "  cost+=(np.sum((y_cap-y)**2))/(2*m)`\n",
        "\n",
        "### Followed by multiple lines of:\n",
        "`At iteration number <some number>, the cost is nan, 'w' is [[nan nan]] and 'b' is nan`\n",
        "\n",
        "### This is because as the error says there is an `overflow` due to the value of our `cost` becoming large enough that it can't be stored in the memory space allotted to it."
      ],
      "metadata": {
        "id": "jdCvOZ1M5H8I"
      }
    },
    {
      "cell_type": "markdown",
      "source": [
        "### This means that we have to utilize methods that modify our data so that it can be better suited to fitting our function"
      ],
      "metadata": {
        "id": "dLlaoUyM2NC5"
      }
    },
    {
      "cell_type": "markdown",
      "source": [
        "### We employ such techniques(called feature scaling) because the values our features take on are quite different.\n",
        "### As an example, in the erroneous dataset, the first feature takes on values from 1 to 2500, while the 2nd feature only lies between -1 to 50"
      ],
      "metadata": {
        "id": "E--cDv-y3NUG"
      }
    },
    {
      "cell_type": "markdown",
      "source": [
        "### The first technique we try is `mean normalization`, where we modulate the data so that the resultant mean is zero.\n",
        "\n",
        "Here, we try to bring down the features into the same range so that training on them becomes easier"
      ],
      "metadata": {
        "id": "I0xEa_mK5AuX"
      }
    },
    {
      "cell_type": "code",
      "source": [
        "def mean_normalization(X):\n",
        "  mean=np.mean(X,axis=0)\n",
        "  X=X-mean\n",
        "  return X"
      ],
      "metadata": {
        "id": "14M1xbKj5zym"
      },
      "execution_count": 15,
      "outputs": []
    },
    {
      "cell_type": "markdown",
      "source": [
        "### The `axis = 0` ensures that the `mean` is calculated feature by feature(i.e. column by column) and not at once for the entire vector which is really helpful"
      ],
      "metadata": {
        "id": "1HFUpT207rGD"
      }
    },
    {
      "cell_type": "code",
      "source": [
        "X[:,0]=mean_normalization(X[:,0])\n",
        "print(f\"The 1st column is {X[:,0]}\")\n",
        "print(f\"The vector X is:\\n {X}\")"
      ],
      "metadata": {
        "colab": {
          "base_uri": "https://localhost:8080/"
        },
        "id": "0OR1vFF27D27",
        "outputId": "83c53f6d-16ea-441d-be0e-eb89e2414c0d"
      },
      "execution_count": 16,
      "outputs": [
        {
          "output_type": "stream",
          "name": "stdout",
          "text": [
            "The 1st column is [-629 -626 -629 -605 1770 -581 -566 1869]\n",
            "The vector X is:\n",
            " [[-629    1]\n",
            " [-626    2]\n",
            " [-629   -1]\n",
            " [-605    5]\n",
            " [1770   49]\n",
            " [-581    7]\n",
            " [-566    8]\n",
            " [1869   50]]\n"
          ]
        }
      ]
    },
    {
      "cell_type": "markdown",
      "source": [
        "## Now, lets try and train again"
      ],
      "metadata": {
        "id": "SMfecnxi73IF"
      }
    },
    {
      "cell_type": "code",
      "source": [
        "X=np.array([[1,1],[4,2],[1,-1],[25,5],[2401,49],[49,7],[64,8],[2500,50]])\n",
        "y=np.array([7,18,-3,75,5047,133,168,5250])\n",
        "\n",
        "w=np.random.rand(1,2)\n",
        "b=0\n",
        "alpha=0.01\n",
        "num_iterations=10000\n",
        "\n",
        "w,b,costs=train(X,y,w,b,learning_rate=alpha,num_iterations=num_iterations)"
      ],
      "metadata": {
        "colab": {
          "base_uri": "https://localhost:8080/"
        },
        "id": "JHG2Arsw75uL",
        "outputId": "0220ca6a-31bd-412a-b3f4-3543fba8be09"
      },
      "execution_count": 17,
      "outputs": [
        {
          "output_type": "stream",
          "name": "stdout",
          "text": [
            "At iteration number 0, the cost is 1248556.9626819566, 'w' is [[-3.36003670e+33 -6.80952103e+31]] and 'b' is -1.4101441876147857e+30\n",
            "At iteration number 100, the cost is nan, 'w' is [[nan nan]] and 'b' is nan\n",
            "At iteration number 200, the cost is nan, 'w' is [[nan nan]] and 'b' is nan\n",
            "At iteration number 300, the cost is nan, 'w' is [[nan nan]] and 'b' is nan\n",
            "At iteration number 400, the cost is nan, 'w' is [[nan nan]] and 'b' is nan\n",
            "At iteration number 500, the cost is nan, 'w' is [[nan nan]] and 'b' is nan\n",
            "At iteration number 600, the cost is nan, 'w' is [[nan nan]] and 'b' is nan\n",
            "At iteration number 700, the cost is nan, 'w' is [[nan nan]] and 'b' is nan\n",
            "At iteration number 800, the cost is nan, 'w' is [[nan nan]] and 'b' is nan\n",
            "At iteration number 900, the cost is nan, 'w' is [[nan nan]] and 'b' is nan\n",
            "At iteration number 1000, the cost is nan, 'w' is [[nan nan]] and 'b' is nan\n",
            "At iteration number 1100, the cost is nan, 'w' is [[nan nan]] and 'b' is nan\n",
            "At iteration number 1200, the cost is nan, 'w' is [[nan nan]] and 'b' is nan\n",
            "At iteration number 1300, the cost is nan, 'w' is [[nan nan]] and 'b' is nan\n"
          ]
        },
        {
          "output_type": "stream",
          "name": "stderr",
          "text": [
            "<ipython-input-4-cb05dc522385>:5: RuntimeWarning: overflow encountered in square\n",
            "  cost+=(np.sum((y_cap-y)**2))/(2*m)\n"
          ]
        },
        {
          "output_type": "stream",
          "name": "stdout",
          "text": [
            "At iteration number 1400, the cost is nan, 'w' is [[nan nan]] and 'b' is nan\n",
            "At iteration number 1500, the cost is nan, 'w' is [[nan nan]] and 'b' is nan\n",
            "At iteration number 1600, the cost is nan, 'w' is [[nan nan]] and 'b' is nan\n",
            "At iteration number 1700, the cost is nan, 'w' is [[nan nan]] and 'b' is nan\n",
            "At iteration number 1800, the cost is nan, 'w' is [[nan nan]] and 'b' is nan\n",
            "At iteration number 1900, the cost is nan, 'w' is [[nan nan]] and 'b' is nan\n",
            "At iteration number 2000, the cost is nan, 'w' is [[nan nan]] and 'b' is nan\n",
            "At iteration number 2100, the cost is nan, 'w' is [[nan nan]] and 'b' is nan\n",
            "At iteration number 2200, the cost is nan, 'w' is [[nan nan]] and 'b' is nan\n",
            "At iteration number 2300, the cost is nan, 'w' is [[nan nan]] and 'b' is nan\n",
            "At iteration number 2400, the cost is nan, 'w' is [[nan nan]] and 'b' is nan\n",
            "At iteration number 2500, the cost is nan, 'w' is [[nan nan]] and 'b' is nan\n",
            "At iteration number 2600, the cost is nan, 'w' is [[nan nan]] and 'b' is nan\n",
            "At iteration number 2700, the cost is nan, 'w' is [[nan nan]] and 'b' is nan\n",
            "At iteration number 2800, the cost is nan, 'w' is [[nan nan]] and 'b' is nan\n",
            "At iteration number 2900, the cost is nan, 'w' is [[nan nan]] and 'b' is nan\n",
            "At iteration number 3000, the cost is nan, 'w' is [[nan nan]] and 'b' is nan\n",
            "At iteration number 3100, the cost is nan, 'w' is [[nan nan]] and 'b' is nan\n",
            "At iteration number 3200, the cost is nan, 'w' is [[nan nan]] and 'b' is nan\n",
            "At iteration number 3300, the cost is nan, 'w' is [[nan nan]] and 'b' is nan\n",
            "At iteration number 3400, the cost is nan, 'w' is [[nan nan]] and 'b' is nan\n",
            "At iteration number 3500, the cost is nan, 'w' is [[nan nan]] and 'b' is nan\n",
            "At iteration number 3600, the cost is nan, 'w' is [[nan nan]] and 'b' is nan\n",
            "At iteration number 3700, the cost is nan, 'w' is [[nan nan]] and 'b' is nan\n",
            "At iteration number 3800, the cost is nan, 'w' is [[nan nan]] and 'b' is nan\n",
            "At iteration number 3900, the cost is nan, 'w' is [[nan nan]] and 'b' is nan\n",
            "At iteration number 4000, the cost is nan, 'w' is [[nan nan]] and 'b' is nan\n",
            "At iteration number 4100, the cost is nan, 'w' is [[nan nan]] and 'b' is nan\n",
            "At iteration number 4200, the cost is nan, 'w' is [[nan nan]] and 'b' is nan\n",
            "At iteration number 4300, the cost is nan, 'w' is [[nan nan]] and 'b' is nan\n",
            "At iteration number 4400, the cost is nan, 'w' is [[nan nan]] and 'b' is nan\n",
            "At iteration number 4500, the cost is nan, 'w' is [[nan nan]] and 'b' is nan\n",
            "At iteration number 4600, the cost is nan, 'w' is [[nan nan]] and 'b' is nan\n",
            "At iteration number 4700, the cost is nan, 'w' is [[nan nan]] and 'b' is nan\n",
            "At iteration number 4800, the cost is nan, 'w' is [[nan nan]] and 'b' is nan\n",
            "At iteration number 4900, the cost is nan, 'w' is [[nan nan]] and 'b' is nan\n",
            "At iteration number 5000, the cost is nan, 'w' is [[nan nan]] and 'b' is nan\n",
            "At iteration number 5100, the cost is nan, 'w' is [[nan nan]] and 'b' is nan\n",
            "At iteration number 5200, the cost is nan, 'w' is [[nan nan]] and 'b' is nan\n",
            "At iteration number 5300, the cost is nan, 'w' is [[nan nan]] and 'b' is nan\n",
            "At iteration number 5400, the cost is nan, 'w' is [[nan nan]] and 'b' is nan\n",
            "At iteration number 5500, the cost is nan, 'w' is [[nan nan]] and 'b' is nan\n",
            "At iteration number 5600, the cost is nan, 'w' is [[nan nan]] and 'b' is nan\n",
            "At iteration number 5700, the cost is nan, 'w' is [[nan nan]] and 'b' is nan\n",
            "At iteration number 5800, the cost is nan, 'w' is [[nan nan]] and 'b' is nan\n",
            "At iteration number 5900, the cost is nan, 'w' is [[nan nan]] and 'b' is nan\n",
            "At iteration number 6000, the cost is nan, 'w' is [[nan nan]] and 'b' is nan\n",
            "At iteration number 6100, the cost is nan, 'w' is [[nan nan]] and 'b' is nan\n",
            "At iteration number 6200, the cost is nan, 'w' is [[nan nan]] and 'b' is nan\n",
            "At iteration number 6300, the cost is nan, 'w' is [[nan nan]] and 'b' is nan\n",
            "At iteration number 6400, the cost is nan, 'w' is [[nan nan]] and 'b' is nan\n",
            "At iteration number 6500, the cost is nan, 'w' is [[nan nan]] and 'b' is nan\n",
            "At iteration number 6600, the cost is nan, 'w' is [[nan nan]] and 'b' is nan\n",
            "At iteration number 6700, the cost is nan, 'w' is [[nan nan]] and 'b' is nan\n",
            "At iteration number 6800, the cost is nan, 'w' is [[nan nan]] and 'b' is nan\n",
            "At iteration number 6900, the cost is nan, 'w' is [[nan nan]] and 'b' is nan\n",
            "At iteration number 7000, the cost is nan, 'w' is [[nan nan]] and 'b' is nan\n",
            "At iteration number 7100, the cost is nan, 'w' is [[nan nan]] and 'b' is nan\n",
            "At iteration number 7200, the cost is nan, 'w' is [[nan nan]] and 'b' is nan\n",
            "At iteration number 7300, the cost is nan, 'w' is [[nan nan]] and 'b' is nan\n",
            "At iteration number 7400, the cost is nan, 'w' is [[nan nan]] and 'b' is nan\n",
            "At iteration number 7500, the cost is nan, 'w' is [[nan nan]] and 'b' is nan\n",
            "At iteration number 7600, the cost is nan, 'w' is [[nan nan]] and 'b' is nan\n",
            "At iteration number 7700, the cost is nan, 'w' is [[nan nan]] and 'b' is nan\n",
            "At iteration number 7800, the cost is nan, 'w' is [[nan nan]] and 'b' is nan\n",
            "At iteration number 7900, the cost is nan, 'w' is [[nan nan]] and 'b' is nan\n",
            "At iteration number 8000, the cost is nan, 'w' is [[nan nan]] and 'b' is nan\n",
            "At iteration number 8100, the cost is nan, 'w' is [[nan nan]] and 'b' is nan\n",
            "At iteration number 8200, the cost is nan, 'w' is [[nan nan]] and 'b' is nan\n",
            "At iteration number 8300, the cost is nan, 'w' is [[nan nan]] and 'b' is nan\n",
            "At iteration number 8400, the cost is nan, 'w' is [[nan nan]] and 'b' is nan\n",
            "At iteration number 8500, the cost is nan, 'w' is [[nan nan]] and 'b' is nan\n",
            "At iteration number 8600, the cost is nan, 'w' is [[nan nan]] and 'b' is nan\n",
            "At iteration number 8700, the cost is nan, 'w' is [[nan nan]] and 'b' is nan\n",
            "At iteration number 8800, the cost is nan, 'w' is [[nan nan]] and 'b' is nan\n",
            "At iteration number 8900, the cost is nan, 'w' is [[nan nan]] and 'b' is nan\n",
            "At iteration number 9000, the cost is nan, 'w' is [[nan nan]] and 'b' is nan\n",
            "At iteration number 9100, the cost is nan, 'w' is [[nan nan]] and 'b' is nan\n",
            "At iteration number 9200, the cost is nan, 'w' is [[nan nan]] and 'b' is nan\n",
            "At iteration number 9300, the cost is nan, 'w' is [[nan nan]] and 'b' is nan\n",
            "At iteration number 9400, the cost is nan, 'w' is [[nan nan]] and 'b' is nan\n",
            "At iteration number 9500, the cost is nan, 'w' is [[nan nan]] and 'b' is nan\n",
            "At iteration number 9600, the cost is nan, 'w' is [[nan nan]] and 'b' is nan\n",
            "At iteration number 9700, the cost is nan, 'w' is [[nan nan]] and 'b' is nan\n",
            "At iteration number 9800, the cost is nan, 'w' is [[nan nan]] and 'b' is nan\n",
            "At iteration number 9900, the cost is nan, 'w' is [[nan nan]] and 'b' is nan\n"
          ]
        }
      ]
    },
    {
      "cell_type": "markdown",
      "source": [
        "## Very visibly, this doesn't work. We'll have to try something else"
      ],
      "metadata": {
        "id": "BpChrDse8CAL"
      }
    },
    {
      "cell_type": "markdown",
      "source": [
        "### We try `I-score normalizaion`"
      ],
      "metadata": {
        "id": "YOynrOfM8OKw"
      }
    },
    {
      "cell_type": "code",
      "source": [
        "def i_score_normalization(X):\n",
        "  mean=np.mean(X)\n",
        "  #variance=np.var(X)\n",
        "  std_dev=np.std(X)\n",
        "  #print(f\"Variance is {variance}\")\n",
        "  print(f\"The standard deviation is: {std_dev}\")\n",
        "  X=(X-mean)/(std_dev)\n",
        "  return X,mean,std_dev"
      ],
      "metadata": {
        "id": "5mJO66GP8SVB"
      },
      "execution_count": 25,
      "outputs": []
    },
    {
      "cell_type": "code",
      "source": [
        "y=np.array([7,18,-3,75,5047,133,168,5250])\n",
        "y,mean_y,standard_deviation_y=i_score_normalization(y)\n",
        "\n",
        "print(f\"The vector y is:\\n {y}\")"
      ],
      "metadata": {
        "colab": {
          "base_uri": "https://localhost:8080/"
        },
        "id": "J0193VN9N78p",
        "outputId": "ca088ca4-49bf-455a-b75d-02aa1bfe9142"
      },
      "execution_count": 26,
      "outputs": [
        {
          "output_type": "stream",
          "name": "stdout",
          "text": [
            "The standard deviation is: 2201.952283628099\n",
            "The vector y is:\n",
            " [-0.60395269 -0.59895712 -0.60849411 -0.573071    1.68492525 -0.54673074\n",
            " -0.53083575  1.77711617]\n"
          ]
        }
      ]
    },
    {
      "cell_type": "code",
      "source": [
        "X=np.array([[1.0,1],[4.0,2],[1.0,-1],[25.0,5],[2401.0,49],[49.0,7],[64.0,8],[2500.0,50]])\n",
        "\n",
        "\n",
        "X[:,0],mean,standard_deviation=i_score_normalization(X[:,0])\n",
        "print(f\"The 1st column is {X[:,0]}\")\n",
        "print(f\"The vector X is:\\n {X}\")"
      ],
      "metadata": {
        "colab": {
          "base_uri": "https://localhost:8080/"
        },
        "id": "yUfxP0ML88Ok",
        "outputId": "86eac156-82d0-4a92-95cb-04461c294d54"
      },
      "execution_count": 27,
      "outputs": [
        {
          "output_type": "stream",
          "name": "stdout",
          "text": [
            "The standard deviation is: 1051.2158362462962\n",
            "The 1st column is [-0.59894931 -0.59609547 -0.59894931 -0.5761186   1.68412132 -0.5532879\n",
            " -0.53901871  1.77829798]\n",
            "The vector X is:\n",
            " [[-0.59894931  1.        ]\n",
            " [-0.59609547  2.        ]\n",
            " [-0.59894931 -1.        ]\n",
            " [-0.5761186   5.        ]\n",
            " [ 1.68412132 49.        ]\n",
            " [-0.5532879   7.        ]\n",
            " [-0.53901871  8.        ]\n",
            " [ 1.77829798 50.        ]]\n"
          ]
        }
      ]
    },
    {
      "cell_type": "markdown",
      "source": [
        "## There are a few things of importance above:\n",
        "* ### We have modified the data in the 1st column to now include a decimal point followed by a zero. This is so that the data becomes a 'float'  value from an 'int' value and that aids in the normalization since having integers means that the result of our normalization would be `0` or `1`  \n",
        "* ### The second thing is that I used standard deviation(`np.std`) instead from variance(`np.var`) since that is how the formula (for `i-score normalization`) is implemented\n",
        "\n",
        "### The first point is really of crucial importance because it means that your ouput type is determined by your input type. And, if your input type isn't proper, your output type won't be either."
      ],
      "metadata": {
        "id": "puKkmy0zA_Q2"
      }
    },
    {
      "cell_type": "markdown",
      "source": [
        "## Now, we try to train our model on this altered dataset temembering that since we toyed with our input training data, we would have to do some modifications to our output data as well"
      ],
      "metadata": {
        "id": "jBUXAxtqNHWh"
      }
    },
    {
      "cell_type": "code",
      "source": [
        "X=np.array([[1.0,1],[4.0,2],[1.0,-1],[25.0,5],[2401.0,49],[49.0,7],[64.0,8],[2500.0,50]])\n",
        "\n",
        "X[:,0],mean_X,standard_deviation_X=i_score_normalization(X[:,0])\n",
        "\n",
        "y=np.array([7.0,18.0,-3.0,75.0,5047.0,133.0,168.0,5250.0])\n",
        "\n",
        "y,mean_y,standard_deviation_y=i_score_normalization(y)\n",
        "print(f\"y is:\\n {y}\")\n",
        "\n",
        "w=np.random.rand(1,2)\n",
        "b=0\n",
        "alpha=0.01\n",
        "num_iterations=10000\n",
        "\n",
        "w,b,costs=train(X,y,w,b,learning_rate=alpha,num_iterations=num_iterations)"
      ],
      "metadata": {
        "colab": {
          "base_uri": "https://localhost:8080/"
        },
        "id": "iyE4YowSNAiY",
        "outputId": "69288f3b-c9a4-49b4-e4b2-9375ec3755da"
      },
      "execution_count": 30,
      "outputs": [
        {
          "output_type": "stream",
          "name": "stdout",
          "text": [
            "The standard deviation is: 1051.2158362462962\n",
            "The standard deviation is: 2201.952283628099\n",
            "y is:\n",
            " [-0.60395269 -0.59895712 -0.60849411 -0.573071    1.68492525 -0.54673074\n",
            " -0.53083575  1.77711617]\n",
            "At iteration number 0, the cost is 96.1641553847312, 'w' is [[ 11097.9748378  351712.19676439]] and 'b' is 8435.615563058238\n",
            "At iteration number 100, the cost is nan, 'w' is [[nan nan]] and 'b' is nan\n",
            "At iteration number 200, the cost is nan, 'w' is [[nan nan]] and 'b' is nan\n",
            "At iteration number 300, the cost is nan, 'w' is [[nan nan]] and 'b' is nan\n",
            "At iteration number 400, the cost is nan, 'w' is [[nan nan]] and 'b' is nan\n",
            "At iteration number 500, the cost is nan, 'w' is [[nan nan]] and 'b' is nan\n",
            "At iteration number 600, the cost is nan, 'w' is [[nan nan]] and 'b' is nan\n",
            "At iteration number 700, the cost is nan, 'w' is [[nan nan]] and 'b' is nan\n",
            "At iteration number 800, the cost is nan, 'w' is [[nan nan]] and 'b' is nan\n",
            "At iteration number 900, the cost is nan, 'w' is [[nan nan]] and 'b' is nan\n",
            "At iteration number 1000, the cost is nan, 'w' is [[nan nan]] and 'b' is nan\n",
            "At iteration number 1100, the cost is nan, 'w' is [[nan nan]] and 'b' is nan\n",
            "At iteration number 1200, the cost is nan, 'w' is [[nan nan]] and 'b' is nan\n",
            "At iteration number 1300, the cost is nan, 'w' is [[nan nan]] and 'b' is nan\n"
          ]
        },
        {
          "output_type": "stream",
          "name": "stderr",
          "text": [
            "<ipython-input-4-cb05dc522385>:5: RuntimeWarning: overflow encountered in square\n",
            "  cost+=(np.sum((y_cap-y)**2))/(2*m)\n",
            "/usr/local/lib/python3.10/dist-packages/numpy/core/fromnumeric.py:86: RuntimeWarning: invalid value encountered in reduce\n",
            "  return ufunc.reduce(obj, axis, dtype, out, **passkwargs)\n",
            "<ipython-input-5-a82436e3f714>:12: RuntimeWarning: invalid value encountered in subtract\n",
            "  w-=w_gradient\n"
          ]
        },
        {
          "output_type": "stream",
          "name": "stdout",
          "text": [
            "At iteration number 1400, the cost is nan, 'w' is [[nan nan]] and 'b' is nan\n",
            "At iteration number 1500, the cost is nan, 'w' is [[nan nan]] and 'b' is nan\n",
            "At iteration number 1600, the cost is nan, 'w' is [[nan nan]] and 'b' is nan\n",
            "At iteration number 1700, the cost is nan, 'w' is [[nan nan]] and 'b' is nan\n",
            "At iteration number 1800, the cost is nan, 'w' is [[nan nan]] and 'b' is nan\n",
            "At iteration number 1900, the cost is nan, 'w' is [[nan nan]] and 'b' is nan\n",
            "At iteration number 2000, the cost is nan, 'w' is [[nan nan]] and 'b' is nan\n",
            "At iteration number 2100, the cost is nan, 'w' is [[nan nan]] and 'b' is nan\n",
            "At iteration number 2200, the cost is nan, 'w' is [[nan nan]] and 'b' is nan\n",
            "At iteration number 2300, the cost is nan, 'w' is [[nan nan]] and 'b' is nan\n",
            "At iteration number 2400, the cost is nan, 'w' is [[nan nan]] and 'b' is nan\n",
            "At iteration number 2500, the cost is nan, 'w' is [[nan nan]] and 'b' is nan\n",
            "At iteration number 2600, the cost is nan, 'w' is [[nan nan]] and 'b' is nan\n",
            "At iteration number 2700, the cost is nan, 'w' is [[nan nan]] and 'b' is nan\n",
            "At iteration number 2800, the cost is nan, 'w' is [[nan nan]] and 'b' is nan\n",
            "At iteration number 2900, the cost is nan, 'w' is [[nan nan]] and 'b' is nan\n",
            "At iteration number 3000, the cost is nan, 'w' is [[nan nan]] and 'b' is nan\n",
            "At iteration number 3100, the cost is nan, 'w' is [[nan nan]] and 'b' is nan\n",
            "At iteration number 3200, the cost is nan, 'w' is [[nan nan]] and 'b' is nan\n",
            "At iteration number 3300, the cost is nan, 'w' is [[nan nan]] and 'b' is nan\n",
            "At iteration number 3400, the cost is nan, 'w' is [[nan nan]] and 'b' is nan\n",
            "At iteration number 3500, the cost is nan, 'w' is [[nan nan]] and 'b' is nan\n",
            "At iteration number 3600, the cost is nan, 'w' is [[nan nan]] and 'b' is nan\n",
            "At iteration number 3700, the cost is nan, 'w' is [[nan nan]] and 'b' is nan\n",
            "At iteration number 3800, the cost is nan, 'w' is [[nan nan]] and 'b' is nan\n",
            "At iteration number 3900, the cost is nan, 'w' is [[nan nan]] and 'b' is nan\n",
            "At iteration number 4000, the cost is nan, 'w' is [[nan nan]] and 'b' is nan\n",
            "At iteration number 4100, the cost is nan, 'w' is [[nan nan]] and 'b' is nan\n",
            "At iteration number 4200, the cost is nan, 'w' is [[nan nan]] and 'b' is nan\n",
            "At iteration number 4300, the cost is nan, 'w' is [[nan nan]] and 'b' is nan\n",
            "At iteration number 4400, the cost is nan, 'w' is [[nan nan]] and 'b' is nan\n",
            "At iteration number 4500, the cost is nan, 'w' is [[nan nan]] and 'b' is nan\n",
            "At iteration number 4600, the cost is nan, 'w' is [[nan nan]] and 'b' is nan\n",
            "At iteration number 4700, the cost is nan, 'w' is [[nan nan]] and 'b' is nan\n",
            "At iteration number 4800, the cost is nan, 'w' is [[nan nan]] and 'b' is nan\n",
            "At iteration number 4900, the cost is nan, 'w' is [[nan nan]] and 'b' is nan\n",
            "At iteration number 5000, the cost is nan, 'w' is [[nan nan]] and 'b' is nan\n",
            "At iteration number 5100, the cost is nan, 'w' is [[nan nan]] and 'b' is nan\n",
            "At iteration number 5200, the cost is nan, 'w' is [[nan nan]] and 'b' is nan\n",
            "At iteration number 5300, the cost is nan, 'w' is [[nan nan]] and 'b' is nan\n",
            "At iteration number 5400, the cost is nan, 'w' is [[nan nan]] and 'b' is nan\n",
            "At iteration number 5500, the cost is nan, 'w' is [[nan nan]] and 'b' is nan\n",
            "At iteration number 5600, the cost is nan, 'w' is [[nan nan]] and 'b' is nan\n",
            "At iteration number 5700, the cost is nan, 'w' is [[nan nan]] and 'b' is nan\n",
            "At iteration number 5800, the cost is nan, 'w' is [[nan nan]] and 'b' is nan\n",
            "At iteration number 5900, the cost is nan, 'w' is [[nan nan]] and 'b' is nan\n",
            "At iteration number 6000, the cost is nan, 'w' is [[nan nan]] and 'b' is nan\n",
            "At iteration number 6100, the cost is nan, 'w' is [[nan nan]] and 'b' is nan\n",
            "At iteration number 6200, the cost is nan, 'w' is [[nan nan]] and 'b' is nan\n",
            "At iteration number 6300, the cost is nan, 'w' is [[nan nan]] and 'b' is nan\n",
            "At iteration number 6400, the cost is nan, 'w' is [[nan nan]] and 'b' is nan\n",
            "At iteration number 6500, the cost is nan, 'w' is [[nan nan]] and 'b' is nan\n",
            "At iteration number 6600, the cost is nan, 'w' is [[nan nan]] and 'b' is nan\n",
            "At iteration number 6700, the cost is nan, 'w' is [[nan nan]] and 'b' is nan\n",
            "At iteration number 6800, the cost is nan, 'w' is [[nan nan]] and 'b' is nan\n",
            "At iteration number 6900, the cost is nan, 'w' is [[nan nan]] and 'b' is nan\n",
            "At iteration number 7000, the cost is nan, 'w' is [[nan nan]] and 'b' is nan\n",
            "At iteration number 7100, the cost is nan, 'w' is [[nan nan]] and 'b' is nan\n",
            "At iteration number 7200, the cost is nan, 'w' is [[nan nan]] and 'b' is nan\n",
            "At iteration number 7300, the cost is nan, 'w' is [[nan nan]] and 'b' is nan\n",
            "At iteration number 7400, the cost is nan, 'w' is [[nan nan]] and 'b' is nan\n",
            "At iteration number 7500, the cost is nan, 'w' is [[nan nan]] and 'b' is nan\n",
            "At iteration number 7600, the cost is nan, 'w' is [[nan nan]] and 'b' is nan\n",
            "At iteration number 7700, the cost is nan, 'w' is [[nan nan]] and 'b' is nan\n",
            "At iteration number 7800, the cost is nan, 'w' is [[nan nan]] and 'b' is nan\n",
            "At iteration number 7900, the cost is nan, 'w' is [[nan nan]] and 'b' is nan\n",
            "At iteration number 8000, the cost is nan, 'w' is [[nan nan]] and 'b' is nan\n",
            "At iteration number 8100, the cost is nan, 'w' is [[nan nan]] and 'b' is nan\n",
            "At iteration number 8200, the cost is nan, 'w' is [[nan nan]] and 'b' is nan\n",
            "At iteration number 8300, the cost is nan, 'w' is [[nan nan]] and 'b' is nan\n",
            "At iteration number 8400, the cost is nan, 'w' is [[nan nan]] and 'b' is nan\n",
            "At iteration number 8500, the cost is nan, 'w' is [[nan nan]] and 'b' is nan\n",
            "At iteration number 8600, the cost is nan, 'w' is [[nan nan]] and 'b' is nan\n",
            "At iteration number 8700, the cost is nan, 'w' is [[nan nan]] and 'b' is nan\n",
            "At iteration number 8800, the cost is nan, 'w' is [[nan nan]] and 'b' is nan\n",
            "At iteration number 8900, the cost is nan, 'w' is [[nan nan]] and 'b' is nan\n",
            "At iteration number 9000, the cost is nan, 'w' is [[nan nan]] and 'b' is nan\n",
            "At iteration number 9100, the cost is nan, 'w' is [[nan nan]] and 'b' is nan\n",
            "At iteration number 9200, the cost is nan, 'w' is [[nan nan]] and 'b' is nan\n",
            "At iteration number 9300, the cost is nan, 'w' is [[nan nan]] and 'b' is nan\n",
            "At iteration number 9400, the cost is nan, 'w' is [[nan nan]] and 'b' is nan\n",
            "At iteration number 9500, the cost is nan, 'w' is [[nan nan]] and 'b' is nan\n",
            "At iteration number 9600, the cost is nan, 'w' is [[nan nan]] and 'b' is nan\n",
            "At iteration number 9700, the cost is nan, 'w' is [[nan nan]] and 'b' is nan\n",
            "At iteration number 9800, the cost is nan, 'w' is [[nan nan]] and 'b' is nan\n",
            "At iteration number 9900, the cost is nan, 'w' is [[nan nan]] and 'b' is nan\n"
          ]
        }
      ]
    },
    {
      "cell_type": "markdown",
      "source": [
        "# We'll have to add `lambda`- normalization for the weights so that they dont have much of an effect"
      ],
      "metadata": {
        "id": "M0LusQN4R2-4"
      }
    }
  ]
}