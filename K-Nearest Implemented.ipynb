{
  "nbformat": 4,
  "nbformat_minor": 0,
  "metadata": {
    "colab": {
      "provenance": [],
      "authorship_tag": "ABX9TyP4EJ4K/drxWO8f9UalLDUn",
      "include_colab_link": true
    },
    "kernelspec": {
      "name": "python3",
      "display_name": "Python 3"
    },
    "language_info": {
      "name": "python"
    }
  },
  "cells": [
    {
      "cell_type": "markdown",
      "metadata": {
        "id": "view-in-github",
        "colab_type": "text"
      },
      "source": [
        "<a href=\"https://colab.research.google.com/github/shivanshu1303/Simple-ML-Algos-Implemented/blob/main/K-Nearest%20Implemented.ipynb\" target=\"_parent\"><img src=\"https://colab.research.google.com/assets/colab-badge.svg\" alt=\"Open In Colab\"/></a>"
      ]
    },
    {
      "cell_type": "markdown",
      "source": [
        "## Here, I will implement the `K-Nearest Neighbours` algorithm. This is a classification algorithm. Given a data point, it tells use which one(of a multiple) class does the point belong to.\n",
        "\n",
        "## To do this, it simply uses a *popularity vote*. That is, it takes `k` of the other nearest points to the input point and uses their categories to assign a category to the point. Hence, the use of the term 'Popularity Contest'"
      ],
      "metadata": {
        "id": "iUuiKUJGjFlX"
      }
    },
    {
      "cell_type": "markdown",
      "source": [
        "### To do this, we first import the necessary libraries."
      ],
      "metadata": {
        "id": "y8Y5OrBbkUuL"
      }
    },
    {
      "cell_type": "code",
      "source": [
        "import numpy as np\n",
        "import matplotlib.pyplot as plt\n",
        "import pandas as pd\n",
        "from collections import Counter"
      ],
      "metadata": {
        "id": "BlABHW9FkYNS"
      },
      "execution_count": 1,
      "outputs": []
    },
    {
      "cell_type": "markdown",
      "source": [
        "### Next, we define the euclidean distance i.e. our measure for actually knowing the `nearest neighbours`"
      ],
      "metadata": {
        "id": "crOKl0v0oHW_"
      }
    },
    {
      "cell_type": "code",
      "source": [
        "def euclidean_distance(x1,x2):\n",
        "  dist=np.sqrt(np.sum((x1-x2)**2))\n",
        "  return dist"
      ],
      "metadata": {
        "id": "7F-JrVw6oOqf"
      },
      "execution_count": 2,
      "outputs": []
    },
    {
      "cell_type": "markdown",
      "source": [
        "### Now, we write a function to predict the class for a single observation"
      ],
      "metadata": {
        "id": "Su4JomHNqiGx"
      }
    },
    {
      "cell_type": "code",
      "source": [
        "\"\"\"\n",
        "def predict_one(X_train,y_train,x_test,k):\n",
        "  distances=[]\n",
        "  for i in range(len(X_train)):\n",
        "    distance=euclidean_distance(x_test,X_train[i])\n",
        "    distances.append((distance,y_train[i]))\n",
        "\n",
        "  distances.sort(key= lambda x:x[0])\n",
        "  neighbours=distances[:k]\n",
        "  output_values=[neighbour[1] for neighbour in neighbours]\n",
        "  prediction=Counter(output_values).most_common(1)[0][0]\n",
        "\n",
        "  return prediction\n",
        "\"\"\"\n",
        "\n",
        "def predict_one(X_train, y_train, x_test, k):\n",
        "    distances = []\n",
        "    for i in range(len(X_train)):\n",
        "        distance = euclidean_distance(x_test, X_train[i])\n",
        "        distances.append((distance, y_train[i]))\n",
        "\n",
        "    distances.sort(key=lambda x: x[0])\n",
        "    neighbors = distances[:k]\n",
        "\n",
        "    # If all k neighbors have the same class label, return that class label.\n",
        "    # Otherwise, return the most common class label.\n",
        "    if all(y == neighbors[0][1] for y in [n[1] for n in neighbors]):\n",
        "        return neighbors[0][1]\n",
        "    else:\n",
        "        output_values = [neighbor[1] for neighbor in neighbors]\n",
        "        prediction = Counter(output_values).most_common(1)[0][0]\n",
        "        return prediction"
      ],
      "metadata": {
        "id": "WMeizdvlqrIq"
      },
      "execution_count": 3,
      "outputs": []
    },
    {
      "cell_type": "markdown",
      "source": [
        "### After this, we extend this function to the entire test dataset"
      ],
      "metadata": {
        "id": "wRpuK-g_tgkv"
      }
    },
    {
      "cell_type": "code",
      "source": [
        "def predict(X_train,y_train,X_test,k):\n",
        "  predictions=[]\n",
        "  for x_test in X_test:\n",
        "    pred=predict_one(X_train,y_train,x_test,k)\n",
        "    predictions.append(pred)\n",
        "\n",
        "  return predictions"
      ],
      "metadata": {
        "id": "VFd1hGHjt0o2"
      },
      "execution_count": 4,
      "outputs": []
    },
    {
      "cell_type": "markdown",
      "source": [
        "### After this, we would also want to calculate the accuracy of our model - maybe just in general or by using different k values"
      ],
      "metadata": {
        "id": "vrROlVyouuWv"
      }
    },
    {
      "cell_type": "code",
      "source": [
        "def accuracy(y_pred,y_true):\n",
        "  accuracy=(np.sum(y_pred==y_true))/len(y_pred)\n",
        "  return accuracy"
      ],
      "metadata": {
        "id": "ko9ZRASvu1kD"
      },
      "execution_count": 5,
      "outputs": []
    },
    {
      "cell_type": "markdown",
      "source": [
        "### Now, all that is left is to actually test our code"
      ],
      "metadata": {
        "id": "tgTZ687dxSPA"
      }
    },
    {
      "cell_type": "code",
      "source": [
        "X_train = np.array([[2, 4], [4, 2], [4, 4], [6, 2], [1, 3], [3, 1]])\n",
        "y_train = np.array([0, 0, 1, 1, 0, 0])"
      ],
      "metadata": {
        "id": "SEwb_Tutx2JJ"
      },
      "execution_count": 6,
      "outputs": []
    },
    {
      "cell_type": "code",
      "source": [
        "X_test = np.array([[3, 3], [5, 1]])\n",
        "y_test = np.array([0, 0])"
      ],
      "metadata": {
        "id": "e0NT9k_Cx6zV"
      },
      "execution_count": 10,
      "outputs": []
    },
    {
      "cell_type": "code",
      "source": [
        "k = 3\n",
        "predictions = predict(X_train, y_train, X_test, k)"
      ],
      "metadata": {
        "id": "S0GLbArDx9EW"
      },
      "execution_count": 11,
      "outputs": []
    },
    {
      "cell_type": "markdown",
      "source": [
        "## Now, we evaluate the model"
      ],
      "metadata": {
        "id": "VXQXyY5Lx_Vv"
      }
    },
    {
      "cell_type": "code",
      "source": [
        "print(f\"Predictions: {predictions}\")\n",
        "print(f\"Accuracy: {100*accuracy(y_test, predictions)}%\")"
      ],
      "metadata": {
        "colab": {
          "base_uri": "https://localhost:8080/"
        },
        "id": "gNCn20jcyBO-",
        "outputId": "f05c8f45-a733-4b75-87e9-9484ccea5a26"
      },
      "execution_count": 14,
      "outputs": [
        {
          "output_type": "stream",
          "name": "stdout",
          "text": [
            "Predictions: [0, 0]\n",
            "Accuracy: 100.0%\n"
          ]
        }
      ]
    },
    {
      "cell_type": "code",
      "source": [
        "for i in range(len(X_test)):\n",
        "  plt.scatter(X_test[i][0], X_test[i][1], color='black',s=100)\n",
        "\n",
        "for j in range(len(X_train)):\n",
        "    if y_train[j] == 0:\n",
        "        plt.scatter(X_train[j][0], X_train[j][1], color='red',s=100)\n",
        "    else:\n",
        "        plt.scatter(X_train[j][0], X_train[j][1], color='blue',s=100)\n",
        "\n",
        "plt.show()"
      ],
      "metadata": {
        "colab": {
          "base_uri": "https://localhost:8080/",
          "height": 430
        },
        "id": "O9La2C4w_tMu",
        "outputId": "416e29d6-7e05-4ee2-fa66-e1170f404453"
      },
      "execution_count": 27,
      "outputs": [
        {
          "output_type": "display_data",
          "data": {
            "text/plain": [
              "<Figure size 640x480 with 1 Axes>"
            ],
            "image/png": "[encoded data removed]"
          },
          "metadata": {}
        }
      ]
    },
    {
      "cell_type": "markdown",
      "source": [
        "### Here, we see that with a `k` value of 3, the algorithm correctly predicts the class for both of our points. However, if we alter the value of `k`, the prediction would change too and so would our accuracy."
      ],
      "metadata": {
        "id": "uLbboCzH82M_"
      }
    }
  ]
}