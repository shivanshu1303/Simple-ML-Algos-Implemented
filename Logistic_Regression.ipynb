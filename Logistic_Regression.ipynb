{
  "nbformat": 4,
  "nbformat_minor": 0,
  "metadata": {
    "colab": {
      "provenance": [],
      "authorship_tag": "ABX9TyOKRqLd0+2xl58FcxoINqJK",
      "include_colab_link": true
    },
    "kernelspec": {
      "name": "python3",
      "display_name": "Python 3"
    },
    "language_info": {
      "name": "python"
    }
  },
  "cells": [
    {
      "cell_type": "markdown",
      "metadata": {
        "id": "view-in-github",
        "colab_type": "text"
      },
      "source": [
        "<a href=\"https://colab.research.google.com/github/shivanshu1303/Simple-ML-Algos-Implemented/blob/main/Logistic_Regression.ipynb\" target=\"_parent\"><img src=\"https://colab.research.google.com/assets/colab-badge.svg\" alt=\"Open In Colab\"/></a>"
      ]
    },
    {
      "cell_type": "markdown",
      "source": [
        "## Here, I will implement logistic regression"
      ],
      "metadata": {
        "id": "FRr9En67oONx"
      }
    },
    {
      "cell_type": "markdown",
      "source": [
        "### This would be a continuation of our work till now in that this algorithm actually build upon the linear regression function\n",
        "### We saw that linear regression was something along the lines of: $ y=f(x)=2x+7$,\n",
        "### now, for logistic regression, we simply take this output and put it into our function as: $g(y) = 1/(1+e^{-y} )$\n",
        "### This helps us build a solid classification algorithm since the output of this function is in the range of $(0,1)$ and this value can then be interpreted as the probability of some object belonging to a particular 'class' or 'category'\n",
        "\n",
        "### We begin by coding up our normal linear regression and then go from there"
      ],
      "metadata": {
        "id": "zz_7kypvoRm5"
      }
    },
    {
      "cell_type": "code",
      "source": [
        "import numpy as np"
      ],
      "metadata": {
        "id": "V5jBAPiQqXPS"
      },
      "execution_count": 35,
      "outputs": []
    },
    {
      "cell_type": "code",
      "source": [
        "def sigmoid(X,w,b):\n",
        "  z=b+np.dot(w,X.T)\n",
        "  return 1/(1+np.exp(-z))"
      ],
      "metadata": {
        "id": "3DIhKtgmX4fT"
      },
      "execution_count": 26,
      "outputs": []
    },
    {
      "cell_type": "code",
      "source": [
        "def cost_function(X,y,w,b):\n",
        "  m=X.shape[0]\n",
        "  y_cap=sigmoid(X,w,b)\n",
        "  cost=(-1)*( np.sum( (y)*(np.log(y_cap)) + (1-y)*(np.log(1-y_cap)) ) )/m\n",
        "  return cost"
      ],
      "metadata": {
        "id": "JOxR5r8PY3Zr"
      },
      "execution_count": 27,
      "outputs": []
    },
    {
      "cell_type": "code",
      "source": [
        "def gradient_descent(X,y,w,b,learning_rate):\n",
        "  m=X.shape[0]\n",
        "  y_cap=sigmoid(X,w,b)\n",
        "\n",
        "\n",
        "  w_gradient = (learning_rate)*(np.dot(y_cap-y,X))/m\n",
        "  b_gradient = (learning_rate)*(np.sum(y_cap-y)  )/m\n",
        "\n",
        "  w-=w_gradient\n",
        "  b-=b_gradient\n",
        "\n",
        "  return w,b"
      ],
      "metadata": {
        "id": "c2zoEG2yZpWa"
      },
      "execution_count": 28,
      "outputs": []
    },
    {
      "cell_type": "code",
      "source": [
        "def train(X,y,w,b,learning_rate,num_iterations):\n",
        "  m=X.shape[0]\n",
        "\n",
        "  for i  in range(num_iterations):\n",
        "    w,b=gradient_descent(X,y,w,b,learning_rate)\n",
        "    cost=cost_function(X,y,w,b)\n",
        "\n",
        "    if(i%100==0):\n",
        "      print(f\"At iteration number {i}. the cost is {cost}, 'w' is {w} and 'b' is {b}\")\n",
        "\n",
        "  return w,b"
      ],
      "metadata": {
        "id": "O1t6Zo6odKIi"
      },
      "execution_count": 29,
      "outputs": []
    },
    {
      "cell_type": "code",
      "source": [
        "def predict(X,w,b):\n",
        "  y_cap=sigmoid(X,w,b)\n",
        "  prediction=[]\n",
        "  for i in range(y_cap.shape[1]):\n",
        "    if(y_cap[0][i]>=0.5):\n",
        "      prediction.append(1)\n",
        "    else:\n",
        "      prediction.append(0)\n",
        "  return prediction"
      ],
      "metadata": {
        "id": "m--l1G-4dphT"
      },
      "execution_count": 62,
      "outputs": []
    },
    {
      "cell_type": "code",
      "source": [
        "X=np.array([0.0,1.0,2.0,3.0,4.0,5.0,6.0,7.0,8.0,9.0,10.0,11.0,12.0,13.0])\n",
        "y=np.array([1,0,1,0,1,0,1,0,1,0,1,0,1,0])\n",
        "w=np.random.rand()\n",
        "b=0\n",
        "alpha=0.1\n",
        "iterations=100000"
      ],
      "metadata": {
        "id": "X-ecT6MceN6m"
      },
      "execution_count": 31,
      "outputs": []
    },
    {
      "cell_type": "code",
      "source": [
        "w,b=train(X,y,w,b,alpha,iterations)"
      ],
      "metadata": {
        "id": "A-S1hTIee_Id"
      },
      "execution_count": null,
      "outputs": []
    },
    {
      "cell_type": "markdown",
      "source": [
        "## Always remember to return `w` and `b` from train so that the 'trained' weights can actually be used to predict"
      ],
      "metadata": {
        "id": "gblarSJPzFPl"
      }
    },
    {
      "cell_type": "code",
      "source": [
        "a=np.array([13,15,18,20]).reshape(-1,1)\n",
        "prediction=predict(a,w,b)\n",
        "print(prediction)"
      ],
      "metadata": {
        "colab": {
          "base_uri": "https://localhost:8080/"
        },
        "id": "AVtE85fvf0Pr",
        "outputId": "f04fe61b-bd84-424c-847d-32a2ad827532"
      },
      "execution_count": 66,
      "outputs": [
        {
          "output_type": "stream",
          "name": "stdout",
          "text": [
            "[1, 1, 1, 1]\n"
          ]
        }
      ]
    },
    {
      "cell_type": "markdown",
      "source": [
        "## In the above problem, the code doesnt work since the code is trained to find a linear boundary that separates the x-values that have y-label `0` from the x-values that have y-label `1`.\n",
        "## But if we look at the data plot below, we see that there is no single line that separates all x-values with y-labels 0 and 1 i.e. the 2 are interwoven into each other and hence the model fails (quite miserably)"
      ],
      "metadata": {
        "id": "qN4RyfKloqYv"
      }
    },
    {
      "cell_type": "code",
      "source": [
        "import matplotlib.pyplot as plt\n",
        "\n",
        "X = np.array([0.0,1.0,2.0,3.0,4.0,5.0,6.0,7.0,8.0,9.0,10.0,11.0,12.0,13.0])\n",
        "y = np.array([1,0,1,0,1,0,1,0,1,0,1,0,1,0])  # 1 for odd, 0 for even\n",
        "\n",
        "plt.scatter(X[y==0], y[y==0], color='blue', label='even')  # even numbers\n",
        "plt.scatter(X[y==1], y[y==1], color='red', label='odd')  # odd numbers\n",
        "\n",
        "plt.xlabel('Number')\n",
        "plt.ylabel('Class')\n",
        "plt.legend()\n",
        "plt.show()"
      ],
      "metadata": {
        "colab": {
          "base_uri": "https://localhost:8080/",
          "height": 449
        },
        "id": "OanM7SxopJfC",
        "outputId": "f00a387d-4c47-40a1-9d97-bba30e55d1fe"
      },
      "execution_count": 19,
      "outputs": [
        {
          "output_type": "display_data",
          "data": {
            "text/plain": [
              "<Figure size 640x480 with 1 Axes>"
            ],
            "image/png": "[encoded data removed]"
          },
          "metadata": {}
        }
      ]
    },
    {
      "cell_type": "markdown",
      "source": [
        "## But lets say we want to build a model that checks whether / not a number is greater than 2, we could build that quite easily.\n",
        "### (We already have built the model, only need to modify the dataset)"
      ],
      "metadata": {
        "id": "o_3tULRTpqTo"
      }
    },
    {
      "cell_type": "code",
      "source": [
        "# We only check if/not a number is greater than 2\n",
        "X=np.array([0.0,1.0,2.0,3.0,4.0,5.0])\n",
        "y=np.array([0,0,0,1,1,1])\n",
        "w=np.random.rand()\n",
        "b=0\n",
        "alpha=0.1\n",
        "iterations=100000"
      ],
      "metadata": {
        "id": "guEIhYysp3ty"
      },
      "execution_count": 67,
      "outputs": []
    },
    {
      "cell_type": "code",
      "source": [
        "w,b=train(X,y,w,b,alpha,iterations)"
      ],
      "metadata": {
        "id": "FY6KXVK_qJSi"
      },
      "execution_count": null,
      "outputs": []
    },
    {
      "cell_type": "code",
      "source": [
        "a=np.array([-100,-1,1,2,9,10,15,18,20]).reshape(-1, 1)\n",
        "prediction=predict(a,w,b)\n",
        "print(prediction)"
      ],
      "metadata": {
        "colab": {
          "base_uri": "https://localhost:8080/"
        },
        "id": "BE7zazO1qR8L",
        "outputId": "c8061421-5cc3-415a-b82f-0f94c6f6c627"
      },
      "execution_count": 69,
      "outputs": [
        {
          "output_type": "stream",
          "name": "stdout",
          "text": [
            "[0, 0, 0, 0, 1, 1, 1, 1, 1]\n"
          ]
        },
        {
          "output_type": "stream",
          "name": "stderr",
          "text": [
            "<ipython-input-26-aec63ba91d1a>:3: RuntimeWarning: overflow encountered in exp\n",
            "  return 1/(1+np.exp(-z))\n"
          ]
        }
      ]
    },
    {
      "cell_type": "markdown",
      "source": [
        "## As we see, the above model correctly predicts whether/not a number is greater than `2`"
      ],
      "metadata": {
        "id": "aeIRdKRqzaGO"
      }
    }
  ]
}